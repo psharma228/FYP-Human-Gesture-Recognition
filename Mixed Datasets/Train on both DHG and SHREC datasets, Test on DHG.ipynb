{
  "nbformat": 4,
  "nbformat_minor": 0,
  "metadata": {
    "colab": {
      "name": "TEST MIX3.ipynb",
      "provenance": [],
      "collapsed_sections": []
    },
    "kernelspec": {
      "name": "python3",
      "display_name": "Python 3"
    },
    "accelerator": "GPU"
  },
  "cells": [
    {
      "cell_type": "markdown",
      "metadata": {
        "id": "hoZM--qv6bnJ"
      },
      "source": [
        "Training Model on both DHG and SHREC datasets, Testing on DHG"
      ]
    },
    {
      "cell_type": "markdown",
      "metadata": {
        "id": "l7s-mZ8o_O49"
      },
      "source": [
        "### 1. Imports"
      ]
    },
    {
      "cell_type": "code",
      "metadata": {
        "id": "DihykQPB_vxX",
        "colab": {
          "base_uri": "https://localhost:8080/"
        },
        "outputId": "f3f06e14-00ed-4e38-f7ae-f970713e167d"
      },
      "source": [
        "%tensorflow_version 2"
      ],
      "execution_count": null,
      "outputs": [
        {
          "output_type": "stream",
          "text": [
            "`%tensorflow_version` only switches the major version: 1.x or 2.x.\n",
            "You set: `2`. This will be interpreted as: `2.x`.\n",
            "\n",
            "\n",
            "TensorFlow 2.x selected.\n"
          ],
          "name": "stdout"
        }
      ]
    },
    {
      "cell_type": "code",
      "metadata": {
        "id": "A3q4CtFc8HoI"
      },
      "source": [
        "force_use_cpu = False\n",
        "\n",
        "if force_use_cpu:\n",
        "    import os\n",
        "    os.environ[\"CUDA_DEVICE_ORDER\"] = \"PCI_BUS_ID\"  \n",
        "    os.environ[\"CUDA_VISIBLE_DEVICES\"] = \"\"\n",
        "    \n",
        "    from tensorflow.keras import backend as K\n",
        "    print('There should not be a GPU in the following list:', K.tensorflow_backend._get_available_gpus())"
      ],
      "execution_count": null,
      "outputs": []
    },
    {
      "cell_type": "code",
      "metadata": {
        "id": "1Tvpr_Hb8KH5"
      },
      "source": [
        "import numpy\n",
        "import tensorflow\n",
        "import tensorflow.keras as keras\n",
        "import pickle\n",
        "import numpy as np\n",
        "import seaborn as sns\n",
        "from tensorflow.keras.utils import to_categorical\n",
        "from tensorflow.keras.utils import plot_model\n",
        "from tensorflow.keras.models import Model, Sequential\n",
        "from tensorflow.keras.layers import Input, Conv1D, AveragePooling1D, Dropout, Flatten, Lambda, Dense\n",
        "from tensorflow.keras.layers import concatenate\n",
        "from tensorflow.keras.backend import expand_dims\n",
        "from tensorflow.keras.optimizers import Adam\n",
        "from matplotlib import pyplot as plt\n",
        "from sklearn.metrics import accuracy_score\n",
        "from sklearn.metrics import confusion_matrix\n",
        "from sklearn.metrics import classification_report"
      ],
      "execution_count": null,
      "outputs": []
    },
    {
      "cell_type": "markdown",
      "metadata": {
        "id": "uzYLXmv4_RxX"
      },
      "source": [
        "### 2. Hyperparameters"
      ]
    },
    {
      "cell_type": "code",
      "metadata": {
        "id": "OUdciqbz8Mav"
      },
      "source": [
        "# model\n",
        "dropout_probability = 0.2\n",
        "duration = 100\n",
        "n_classes = 14\n",
        "n_channels = 66  "
      ],
      "execution_count": null,
      "outputs": []
    },
    {
      "cell_type": "markdown",
      "metadata": {
        "id": "trekjtXx_UKt"
      },
      "source": [
        "### 3. Create a model"
      ]
    },
    {
      "cell_type": "code",
      "metadata": {
        "id": "R8mUaURx8OBv"
      },
      "source": [
        "def create_model(n_classes, duration, n_channels, dropout_probability=0.2):\n",
        "    # Define model\n",
        "    model_input = Input(shape=(duration, n_channels))\n",
        "\n",
        "    # slice into channels\n",
        "    channel_inputs = Lambda(lambda x: tensorflow.split(x, num_or_size_splits=n_channels, axis=-1))(model_input)\n",
        "\n",
        "    features = []\n",
        "    for channel in range(n_channels):\n",
        "        channel_input = channel_inputs[channel]\n",
        "        # high branch\n",
        "        high = Conv1D(filters=8, kernel_size=7, padding='same', activation='relu', input_shape=(100, 1))(channel_input)\n",
        "        high = AveragePooling1D(pool_size=2)(high)\n",
        "        high = Conv1D(filters=4, kernel_size=7, padding='same', activation='relu')(high)\n",
        "        high = AveragePooling1D(pool_size=2)(high)\n",
        "        high = Conv1D(filters=4, kernel_size=7, padding='same', activation='relu')(high)\n",
        "        high = Dropout(dropout_probability)(high)\n",
        "        high = AveragePooling1D(pool_size=2)(high)\n",
        "        # low branch\n",
        "        low = Conv1D(filters=8, kernel_size=3, padding='same', activation='relu', input_shape=(100, 1))(channel_input)\n",
        "        low = AveragePooling1D(pool_size=2)(low)\n",
        "        low = Conv1D(filters=4, kernel_size=3, padding='same', activation='relu')(low)\n",
        "        low = AveragePooling1D(pool_size=2)(low)\n",
        "        low = Conv1D(filters=4, kernel_size=3, padding='same', activation='relu')(low)\n",
        "        low = Dropout(dropout_probability)(low)\n",
        "        low = AveragePooling1D(pool_size=2)(low)\n",
        "        # pooling branch\n",
        "        ap_residual = AveragePooling1D(pool_size=2, input_shape=(100, 1))(channel_input)\n",
        "        ap_residual = AveragePooling1D(pool_size=2)(ap_residual)\n",
        "        ap_residual = AveragePooling1D(pool_size=2)(ap_residual)\n",
        "        # channel output\n",
        "        channel_output = concatenate([high, low, ap_residual])\n",
        "        features.append(channel_output)\n",
        "\n",
        "    features = concatenate(features)\n",
        "    features = Flatten()(features)\n",
        "    features = Dense(units=1936, activation='relu')(features)\n",
        "\n",
        "    model_output = Dense(units=n_classes, activation='softmax')(features)\n",
        "\n",
        "    model = Model(inputs=[model_input], outputs=[model_output])\n",
        "    return model"
      ],
      "execution_count": null,
      "outputs": []
    },
    {
      "cell_type": "code",
      "metadata": {
        "id": "bDqzH-Xi5k_P"
      },
      "source": [
        "model = create_model(n_classes=n_classes, duration=duration, n_channels=n_channels, dropout_probability=dropout_probability)"
      ],
      "execution_count": null,
      "outputs": []
    },
    {
      "cell_type": "markdown",
      "metadata": {
        "id": "Xa-2zhyZ_a4s"
      },
      "source": [
        "### 4. Load data"
      ]
    },
    {
      "cell_type": "code",
      "metadata": {
        "id": "Q7Y63b9Z52HQ",
        "colab": {
          "base_uri": "https://localhost:8080/"
        },
        "outputId": "87489e9b-c088-44b6-ebc7-56368e3786f8"
      },
      "source": [
        "use_shrec_dataset = True\n",
        "\n",
        "if use_shrec_dataset:\n",
        "\n",
        "    try:\n",
        "        # Connect Google Colab instance to Google Drive\n",
        "        from google.colab import drive\n",
        "        drive.mount('/gdrive')\n",
        "        !cp /gdrive/My\\ Drive/shrec_data.pckl shrec_data.pckl\n",
        "    except:\n",
        "        print(\"You're not in a Google Colab!\")\n",
        "\n",
        "    def load_data(filepath='./shrec_data.pckl'):\n",
        "        \"\"\"\n",
        "        Returns hand gesture sequences (X) and their associated labels (Y).\n",
        "        Each sequence has two different labels.\n",
        "        The first label  Y describes the gesture class out of 14 possible gestures (e.g. swiping your hand to the right).\n",
        "        The second label Y describes the gesture class out of 28 possible gestures (e.g. swiping your hand to the right with your index pointed, or not pointed).\n",
        "        \"\"\"\n",
        "        file = open(filepath, 'rb')\n",
        "        data = pickle.load(file, encoding='latin1') \n",
        "        file.close()\n",
        "        return data['x_train'], data['x_test'], data['y_train_14'], data['y_train_28'], data['y_test_14'], data['y_test_28']\n",
        "\n",
        "    x1_train, x1_test, y1_train_14, y1_train_28, y1_test_14, y1_test_28 = load_data('shrec_data.pckl')\n",
        "    y1_train_14, y1_test_14 = numpy.array(y1_train_14), numpy.array(y1_test_14)\n",
        "    y1_train_28, y1_test_28 = numpy.array(y1_train_28), numpy.array(y1_test_28)\n",
        "    if n_classes == 14:\n",
        "        y_train_shrec = y1_train_14\n",
        "        y_test_shrec = y1_test_14\n",
        "    elif n_classes == 28:\n",
        "        y_train_shrec = y1_train_28\n",
        "        y_test_shrec = y1_test_28\n"
      ],
      "execution_count": null,
      "outputs": [
        {
          "output_type": "stream",
          "text": [
            "Mounted at /gdrive\n"
          ],
          "name": "stdout"
        }
      ]
    },
    {
      "cell_type": "code",
      "metadata": {
        "colab": {
          "base_uri": "https://localhost:8080/"
        },
        "id": "EYWVmkuOnOfq",
        "outputId": "33104d28-0750-480a-95c3-b7d91e0beaba"
      },
      "source": [
        "\n",
        "use_dhg_dataset = True\n",
        "\n",
        "if use_dhg_dataset:\n",
        "\n",
        "    try:\n",
        "        # Connect Google Colab instance to Google Drive\n",
        "        from google.colab import drive\n",
        "        drive.mount('/gdrive',force_remount=True)\n",
        "        !cp /gdrive/My\\ Drive/dhg_data.pckl dhg_data.pckl\n",
        "    except:\n",
        "        print(\"You're not in a Google Colab!\")\n",
        "\n",
        "    def load_data(filepath='./dhg_data.pckl'):\n",
        "        \"\"\"\n",
        "        Returns hand gesture sequences (X) and their associated labels (Y).\n",
        "        \"\"\"\n",
        "        file = open(filepath, 'rb')\n",
        "        data = pickle.load(file, encoding='latin1') \n",
        "        file.close()\n",
        "        return data['x_train'], data['x_test'], data['y_train_14'], data['y_train_28'], data['y_test_14'], data['y_test_28']\n",
        "\n",
        "    x2_train, x2_test, y2_train_14, y2_train_28, y2_test_14, y2_test_28 = load_data('dhg_data.pckl')\n",
        "    y2_train_14, y2_test_14 = numpy.array(y2_train_14), numpy.array(y2_test_14)\n",
        "    y2_train_28, y2_test_28 = numpy.array(y2_train_28), numpy.array(y2_test_28)\n",
        "    if n_classes == 14:\n",
        "        y_train_dhg = y2_train_14\n",
        "        y_test_dhg = y2_test_14\n",
        "    elif n_classes == 28:\n",
        "        y_train_dhg = y2_train_28\n",
        "        y_test_dhg = y2_test_28\n"
      ],
      "execution_count": null,
      "outputs": [
        {
          "output_type": "stream",
          "text": [
            "Mounted at /gdrive\n"
          ],
          "name": "stdout"
        }
      ]
    },
    {
      "cell_type": "code",
      "metadata": {
        "id": "2p3CP1x68aU4"
      },
      "source": [
        "# Cross checking the data for DHG\n",
        "if y_train_dhg.min() > 0:\n",
        "  y_train_dhg = y_train_dhg - 1\n",
        "if y_test_dhg.min() > 0:\n",
        "  y_test_dhg = y_test_dhg - 1\n",
        "\n",
        "# Transform the labels to one-hot encoding for the cross-entropy loss\n",
        "y_train_dhg = to_categorical(y_train_dhg, num_classes=n_classes)\n",
        "y_test_dhg = to_categorical(y_test_dhg, num_classes=n_classes)"
      ],
      "execution_count": null,
      "outputs": []
    },
    {
      "cell_type": "code",
      "metadata": {
        "id": "-GD7cOxrpGZB"
      },
      "source": [
        "# Cross checking the data for SHREC\n",
        "if y_train_shrec.min() > 0:\n",
        "  y_train_shrec = y_train_shrec - 1\n",
        "if y_test_shrec.min() > 0:\n",
        "  y_test_shrec = y_test_shrec - 1\n",
        "\n",
        "# Transform the labels to one-hot encoding for the cross-entropy loss\n",
        "y_train_shrec = to_categorical(y_train_shrec, num_classes=n_classes)\n",
        "y_test_shrec = to_categorical(y_test_shrec, num_classes=n_classes)"
      ],
      "execution_count": null,
      "outputs": []
    },
    {
      "cell_type": "markdown",
      "metadata": {
        "id": "wpGorW-V_d1b"
      },
      "source": [
        "### 5. Training the model"
      ]
    },
    {
      "cell_type": "code",
      "metadata": {
        "id": "KlTlhEtK8cAJ"
      },
      "source": [
        "# Optimizer's Learning Rate\n",
        "learning_rate = 0.001\n",
        "optimizer = Adam(lr=learning_rate, beta_1=0.9, beta_2=0.999, epsilon=1e-8)\n",
        "loss = 'categorical_crossentropy'\n",
        "metrics = ['accuracy']\n",
        "model.compile(optimizer=optimizer, loss=loss, metrics=metrics)"
      ],
      "execution_count": null,
      "outputs": []
    },
    {
      "cell_type": "code",
      "metadata": {
        "colab": {
          "base_uri": "https://localhost:8080/"
        },
        "id": "ZdvHpzzhsuQZ",
        "outputId": "c27079d3-1890-4258-867c-a8ef670df641"
      },
      "source": [
        "# Training the model\n",
        "history = model.fit(x2_train, y_train_dhg,epochs=50, batch_size=28)"
      ],
      "execution_count": null,
      "outputs": [
        {
          "output_type": "stream",
          "text": [
            "Epoch 1/50\n",
            "70/70 [==============================] - 72s 102ms/step - loss: 3.1589 - accuracy: 0.0928\n",
            "Epoch 2/50\n",
            "70/70 [==============================] - 7s 103ms/step - loss: 2.3862 - accuracy: 0.2609\n",
            "Epoch 3/50\n",
            "70/70 [==============================] - 7s 103ms/step - loss: 1.7726 - accuracy: 0.4199\n",
            "Epoch 4/50\n",
            "70/70 [==============================] - 7s 101ms/step - loss: 1.4501 - accuracy: 0.5163\n",
            "Epoch 5/50\n",
            "70/70 [==============================] - 7s 102ms/step - loss: 1.2634 - accuracy: 0.5686\n",
            "Epoch 6/50\n",
            "70/70 [==============================] - 7s 103ms/step - loss: 1.1836 - accuracy: 0.6177\n",
            "Epoch 7/50\n",
            "70/70 [==============================] - 7s 103ms/step - loss: 0.9889 - accuracy: 0.6901\n",
            "Epoch 8/50\n",
            "70/70 [==============================] - 7s 104ms/step - loss: 0.8657 - accuracy: 0.7070\n",
            "Epoch 9/50\n",
            "70/70 [==============================] - 7s 104ms/step - loss: 0.8254 - accuracy: 0.7317\n",
            "Epoch 10/50\n",
            "70/70 [==============================] - 7s 103ms/step - loss: 0.7876 - accuracy: 0.7246\n",
            "Epoch 11/50\n",
            "70/70 [==============================] - 7s 103ms/step - loss: 0.6993 - accuracy: 0.7725\n",
            "Epoch 12/50\n",
            "70/70 [==============================] - 7s 102ms/step - loss: 0.6476 - accuracy: 0.7893\n",
            "Epoch 13/50\n",
            "70/70 [==============================] - 7s 103ms/step - loss: 0.6329 - accuracy: 0.7848\n",
            "Epoch 14/50\n",
            "70/70 [==============================] - 7s 102ms/step - loss: 0.6251 - accuracy: 0.7743\n",
            "Epoch 15/50\n",
            "70/70 [==============================] - 7s 102ms/step - loss: 0.5258 - accuracy: 0.8293\n",
            "Epoch 16/50\n",
            "70/70 [==============================] - 7s 103ms/step - loss: 0.4875 - accuracy: 0.8315\n",
            "Epoch 17/50\n",
            "70/70 [==============================] - 7s 102ms/step - loss: 0.4419 - accuracy: 0.8568\n",
            "Epoch 18/50\n",
            "70/70 [==============================] - 7s 103ms/step - loss: 0.4405 - accuracy: 0.8397\n",
            "Epoch 19/50\n",
            "70/70 [==============================] - 7s 104ms/step - loss: 0.3832 - accuracy: 0.8652\n",
            "Epoch 20/50\n",
            "70/70 [==============================] - 7s 105ms/step - loss: 0.4044 - accuracy: 0.8647\n",
            "Epoch 21/50\n",
            "70/70 [==============================] - 7s 103ms/step - loss: 0.3783 - accuracy: 0.8745\n",
            "Epoch 22/50\n",
            "70/70 [==============================] - 7s 103ms/step - loss: 0.3900 - accuracy: 0.8661\n",
            "Epoch 23/50\n",
            "70/70 [==============================] - 7s 102ms/step - loss: 0.3190 - accuracy: 0.8941\n",
            "Epoch 24/50\n",
            "70/70 [==============================] - 7s 103ms/step - loss: 0.2709 - accuracy: 0.9134\n",
            "Epoch 25/50\n",
            "70/70 [==============================] - 7s 102ms/step - loss: 0.2778 - accuracy: 0.9099\n",
            "Epoch 26/50\n",
            "70/70 [==============================] - 7s 102ms/step - loss: 0.3048 - accuracy: 0.8921\n",
            "Epoch 27/50\n",
            "70/70 [==============================] - 7s 102ms/step - loss: 0.2387 - accuracy: 0.9258\n",
            "Epoch 28/50\n",
            "70/70 [==============================] - 7s 104ms/step - loss: 0.2092 - accuracy: 0.9335\n",
            "Epoch 29/50\n",
            "70/70 [==============================] - 7s 104ms/step - loss: 0.2244 - accuracy: 0.9294\n",
            "Epoch 30/50\n",
            "70/70 [==============================] - 7s 103ms/step - loss: 0.2142 - accuracy: 0.9223\n",
            "Epoch 31/50\n",
            "70/70 [==============================] - 7s 105ms/step - loss: 0.2140 - accuracy: 0.9290\n",
            "Epoch 32/50\n",
            "70/70 [==============================] - 7s 104ms/step - loss: 0.2210 - accuracy: 0.9250\n",
            "Epoch 33/50\n",
            "70/70 [==============================] - 7s 104ms/step - loss: 0.1824 - accuracy: 0.9473\n",
            "Epoch 34/50\n",
            "70/70 [==============================] - 7s 103ms/step - loss: 0.1966 - accuracy: 0.9342\n",
            "Epoch 35/50\n",
            "70/70 [==============================] - 7s 102ms/step - loss: 0.1500 - accuracy: 0.9543\n",
            "Epoch 36/50\n",
            "70/70 [==============================] - 7s 103ms/step - loss: 0.1146 - accuracy: 0.9600\n",
            "Epoch 37/50\n",
            "70/70 [==============================] - 7s 103ms/step - loss: 0.1746 - accuracy: 0.9437\n",
            "Epoch 38/50\n",
            "70/70 [==============================] - 7s 104ms/step - loss: 0.1215 - accuracy: 0.9620\n",
            "Epoch 39/50\n",
            "70/70 [==============================] - 7s 102ms/step - loss: 0.1345 - accuracy: 0.9558\n",
            "Epoch 40/50\n",
            "70/70 [==============================] - 7s 103ms/step - loss: 0.1119 - accuracy: 0.9661\n",
            "Epoch 41/50\n",
            "70/70 [==============================] - 7s 103ms/step - loss: 0.1040 - accuracy: 0.9664\n",
            "Epoch 42/50\n",
            "70/70 [==============================] - 7s 103ms/step - loss: 0.1164 - accuracy: 0.9599\n",
            "Epoch 43/50\n",
            "70/70 [==============================] - 7s 103ms/step - loss: 0.0939 - accuracy: 0.9682\n",
            "Epoch 44/50\n",
            "70/70 [==============================] - 7s 104ms/step - loss: 0.1237 - accuracy: 0.9622\n",
            "Epoch 45/50\n",
            "70/70 [==============================] - 7s 103ms/step - loss: 0.1138 - accuracy: 0.9621\n",
            "Epoch 46/50\n",
            "70/70 [==============================] - 7s 102ms/step - loss: 0.0697 - accuracy: 0.9811\n",
            "Epoch 47/50\n",
            "70/70 [==============================] - 7s 103ms/step - loss: 0.1201 - accuracy: 0.9581\n",
            "Epoch 48/50\n",
            "70/70 [==============================] - 7s 103ms/step - loss: 0.1096 - accuracy: 0.9621\n",
            "Epoch 49/50\n",
            "70/70 [==============================] - 7s 103ms/step - loss: 0.0588 - accuracy: 0.9800\n",
            "Epoch 50/50\n",
            "70/70 [==============================] - 7s 103ms/step - loss: 0.0397 - accuracy: 0.9887\n"
          ],
          "name": "stdout"
        }
      ]
    },
    {
      "cell_type": "code",
      "metadata": {
        "colab": {
          "base_uri": "https://localhost:8080/"
        },
        "id": "eBWJNaTrYRqi",
        "outputId": "51449358-0ffc-4077-e804-9fd6ed19a41d"
      },
      "source": [
        "history = model.fit(x1_train, y_train_shrec,epochs=50, batch_size=28)\n"
      ],
      "execution_count": null,
      "outputs": [
        {
          "output_type": "stream",
          "text": [
            "Epoch 1/50\n",
            "70/70 [==============================] - 7s 103ms/step - loss: 1.8726 - accuracy: 0.6168\n",
            "Epoch 2/50\n",
            "70/70 [==============================] - 7s 104ms/step - loss: 0.5838 - accuracy: 0.8255\n",
            "Epoch 3/50\n",
            "70/70 [==============================] - 7s 103ms/step - loss: 0.4038 - accuracy: 0.8816\n",
            "Epoch 4/50\n",
            "70/70 [==============================] - 8s 110ms/step - loss: 0.3109 - accuracy: 0.9112\n",
            "Epoch 5/50\n",
            "70/70 [==============================] - 7s 105ms/step - loss: 0.2783 - accuracy: 0.9194\n",
            "Epoch 6/50\n",
            "70/70 [==============================] - 7s 104ms/step - loss: 0.2259 - accuracy: 0.9316\n",
            "Epoch 7/50\n",
            "70/70 [==============================] - 7s 103ms/step - loss: 0.2157 - accuracy: 0.9362\n",
            "Epoch 8/50\n",
            "70/70 [==============================] - 7s 103ms/step - loss: 0.1649 - accuracy: 0.9490\n",
            "Epoch 9/50\n",
            "70/70 [==============================] - 7s 103ms/step - loss: 0.1678 - accuracy: 0.9526\n",
            "Epoch 10/50\n",
            "70/70 [==============================] - 7s 103ms/step - loss: 0.1348 - accuracy: 0.9597\n",
            "Epoch 11/50\n",
            "70/70 [==============================] - 7s 105ms/step - loss: 0.1394 - accuracy: 0.9510\n",
            "Epoch 12/50\n",
            "70/70 [==============================] - 7s 103ms/step - loss: 0.1240 - accuracy: 0.9653\n",
            "Epoch 13/50\n",
            "70/70 [==============================] - 7s 104ms/step - loss: 0.0974 - accuracy: 0.9730\n",
            "Epoch 14/50\n",
            "70/70 [==============================] - 7s 103ms/step - loss: 0.0916 - accuracy: 0.9750\n",
            "Epoch 15/50\n",
            "70/70 [==============================] - 7s 105ms/step - loss: 0.0817 - accuracy: 0.9755\n",
            "Epoch 16/50\n",
            "70/70 [==============================] - 7s 104ms/step - loss: 0.0871 - accuracy: 0.9755\n",
            "Epoch 17/50\n",
            "70/70 [==============================] - 7s 103ms/step - loss: 0.0890 - accuracy: 0.9750\n",
            "Epoch 18/50\n",
            "70/70 [==============================] - 7s 103ms/step - loss: 0.0765 - accuracy: 0.9740\n",
            "Epoch 19/50\n",
            "70/70 [==============================] - 7s 104ms/step - loss: 0.0686 - accuracy: 0.9806\n",
            "Epoch 20/50\n",
            "70/70 [==============================] - 7s 105ms/step - loss: 0.0513 - accuracy: 0.9883\n",
            "Epoch 21/50\n",
            "70/70 [==============================] - 7s 105ms/step - loss: 0.0472 - accuracy: 0.9883\n",
            "Epoch 22/50\n",
            "70/70 [==============================] - 7s 104ms/step - loss: 0.0608 - accuracy: 0.9816\n",
            "Epoch 23/50\n",
            "70/70 [==============================] - 7s 104ms/step - loss: 0.0418 - accuracy: 0.9898\n",
            "Epoch 24/50\n",
            "70/70 [==============================] - 7s 106ms/step - loss: 0.0368 - accuracy: 0.9913\n",
            "Epoch 25/50\n",
            "70/70 [==============================] - 7s 103ms/step - loss: 0.0537 - accuracy: 0.9847\n",
            "Epoch 26/50\n",
            "70/70 [==============================] - 7s 104ms/step - loss: 0.0570 - accuracy: 0.9821\n",
            "Epoch 27/50\n",
            "70/70 [==============================] - 7s 105ms/step - loss: 0.0372 - accuracy: 0.9913\n",
            "Epoch 28/50\n",
            "70/70 [==============================] - 7s 105ms/step - loss: 0.0231 - accuracy: 0.9954\n",
            "Epoch 29/50\n",
            "70/70 [==============================] - 7s 104ms/step - loss: 0.0230 - accuracy: 0.9944\n",
            "Epoch 30/50\n",
            "70/70 [==============================] - 7s 104ms/step - loss: 0.0584 - accuracy: 0.9776\n",
            "Epoch 31/50\n",
            "70/70 [==============================] - 7s 103ms/step - loss: 0.0378 - accuracy: 0.9893\n",
            "Epoch 32/50\n",
            "70/70 [==============================] - 7s 104ms/step - loss: 0.0270 - accuracy: 0.9944\n",
            "Epoch 33/50\n",
            "70/70 [==============================] - 7s 105ms/step - loss: 0.0310 - accuracy: 0.9913\n",
            "Epoch 34/50\n",
            "70/70 [==============================] - 7s 103ms/step - loss: 0.0274 - accuracy: 0.9954\n",
            "Epoch 35/50\n",
            "70/70 [==============================] - 7s 105ms/step - loss: 0.0208 - accuracy: 0.9934\n",
            "Epoch 36/50\n",
            "70/70 [==============================] - 7s 104ms/step - loss: 0.0250 - accuracy: 0.9934\n",
            "Epoch 37/50\n",
            "70/70 [==============================] - 7s 104ms/step - loss: 0.0369 - accuracy: 0.9888\n",
            "Epoch 38/50\n",
            "70/70 [==============================] - 7s 105ms/step - loss: 0.0231 - accuracy: 0.9944\n",
            "Epoch 39/50\n",
            "70/70 [==============================] - 7s 102ms/step - loss: 0.0229 - accuracy: 0.9934\n",
            "Epoch 40/50\n",
            "70/70 [==============================] - 7s 103ms/step - loss: 0.0981 - accuracy: 0.9714\n",
            "Epoch 41/50\n",
            "70/70 [==============================] - 7s 103ms/step - loss: 0.0697 - accuracy: 0.9786\n",
            "Epoch 42/50\n",
            "70/70 [==============================] - 7s 104ms/step - loss: 0.0374 - accuracy: 0.9888\n",
            "Epoch 43/50\n",
            "70/70 [==============================] - 7s 104ms/step - loss: 0.0385 - accuracy: 0.9893\n",
            "Epoch 44/50\n",
            "70/70 [==============================] - 7s 105ms/step - loss: 0.0116 - accuracy: 0.9985\n",
            "Epoch 45/50\n",
            "70/70 [==============================] - 7s 103ms/step - loss: 0.0132 - accuracy: 0.9969\n",
            "Epoch 46/50\n",
            "70/70 [==============================] - 7s 104ms/step - loss: 0.0115 - accuracy: 0.9980\n",
            "Epoch 47/50\n",
            "70/70 [==============================] - 7s 105ms/step - loss: 0.0123 - accuracy: 0.9964\n",
            "Epoch 48/50\n",
            "70/70 [==============================] - 7s 104ms/step - loss: 0.0047 - accuracy: 0.9995\n",
            "Epoch 49/50\n",
            "70/70 [==============================] - 7s 104ms/step - loss: 0.0146 - accuracy: 0.9959\n",
            "Epoch 50/50\n",
            "70/70 [==============================] - 7s 103ms/step - loss: 0.0110 - accuracy: 0.9980\n"
          ],
          "name": "stdout"
        }
      ]
    },
    {
      "cell_type": "code",
      "metadata": {
        "colab": {
          "base_uri": "https://localhost:8080/"
        },
        "id": "mYFGuXozdUWE",
        "outputId": "395bae46-31c8-4c90-ce15-b78370ec4e23"
      },
      "source": [
        "new_var2= model.predict(x2_test)\n",
        "try_new2=confusion_matrix( y_test_dhg.argmax(axis=1),new_var2.argmax(axis=1))\n",
        "matrix_new2 = classification_report( y_test_dhg.argmax(axis=1),new_var2.argmax(axis=1))\n",
        "print(matrix_new2)"
      ],
      "execution_count": null,
      "outputs": [
        {
          "output_type": "stream",
          "text": [
            "              precision    recall  f1-score   support\n",
            "\n",
            "           0       0.52      0.17      0.26        64\n",
            "           1       0.56      0.64      0.59        69\n",
            "           2       0.81      0.21      0.33        62\n",
            "           3       0.24      0.75      0.36        56\n",
            "           4       0.60      0.40      0.48        53\n",
            "           5       0.43      0.53      0.47        60\n",
            "           6       0.67      0.11      0.19        54\n",
            "           7       0.38      0.51      0.43        68\n",
            "           8       0.12      0.04      0.06        53\n",
            "           9       0.22      0.23      0.22        69\n",
            "          10       0.78      0.52      0.62        60\n",
            "          11       0.63      0.58      0.61        57\n",
            "          12       0.50      0.18      0.27        60\n",
            "          13       0.37      0.87      0.52        55\n",
            "\n",
            "    accuracy                           0.41       840\n",
            "   macro avg       0.49      0.41      0.39       840\n",
            "weighted avg       0.49      0.41      0.39       840\n",
            "\n"
          ],
          "name": "stdout"
        }
      ]
    },
    {
      "cell_type": "code",
      "metadata": {
        "colab": {
          "base_uri": "https://localhost:8080/",
          "height": 606
        },
        "id": "z2b3c6Nfdz5i",
        "outputId": "4055a501-eb25-4dbb-b339-1d72bd31949e"
      },
      "source": [
        "try_new_normal2 = try_new2.astype('float') / try_new2.sum(axis=1)[:, numpy.newaxis]\n",
        "fig, ax = plt.subplots(figsize=(10,10))\n",
        "sns.heatmap(try_new_normal2, annot=True, fmt='.2f', cbar=True,cmap=plt.cm.binary)\n",
        "plt.ylabel('Actual')\n",
        "plt.xlabel('Predicted')\n",
        "plt.show(block=False)"
      ],
      "execution_count": null,
      "outputs": [
        {
          "output_type": "display_data",
          "data": {
            "image/png": "[encoded data removed]",
            "text/plain": [
              "<Figure size 720x720 with 2 Axes>"
            ]
          },
          "metadata": {
            "tags": [],
            "needs_background": "light"
          }
        }
      ]
    },
    {
      "cell_type": "code",
      "metadata": {
        "id": "Ga37lO9X8fZU",
        "colab": {
          "base_uri": "https://localhost:8080/",
          "height": 573
        },
        "outputId": "0d215c1f-d3af-4600-9b75-b0ece985a693"
      },
      "source": [
        "# plot everything\n",
        "# summarize history for accuracy\n",
        "plt.plot(history.history['accuracy'])\n",
        "plt.plot(history.history['val_accuracy'])\n",
        "plt.title('model accuracy')\n",
        "plt.ylabel('accuracy')\n",
        "plt.xlabel('epoch')\n",
        "plt.legend(['train', 'test'], loc='lower right')\n",
        "plt.show()\n",
        "# summarize history for loss\n",
        "plt.plot(history.history['loss'])\n",
        "plt.plot(history.history['val_loss'])\n",
        "plt.title('model loss')\n",
        "plt.ylabel('loss')\n",
        "plt.xlabel('epoch')\n",
        "plt.legend(['train', 'test'], loc='upper right')\n",
        "plt.show()"
      ],
      "execution_count": null,
      "outputs": [
        {
          "output_type": "display_data",
          "data": {
            "image/png": "[encoded data removed]",
            "text/plain": [
              "<Figure size 432x288 with 1 Axes>"
            ]
          },
          "metadata": {
            "tags": [],
            "needs_background": "light"
          }
        },
        {
          "output_type": "display_data",
          "data": {
            "image/png": "[encoded data removed]",
            "text/plain": [
              "<Figure size 432x288 with 1 Axes>"
            ]
          },
          "metadata": {
            "tags": [],
            "needs_background": "light"
          }
        }
      ]
    },
    {
      "cell_type": "code",
      "metadata": {
        "id": "Ud2fXeYy8mUt",
        "colab": {
          "base_uri": "https://localhost:8080/"
        },
        "outputId": "e34cebec-96f0-43f6-ff43-777312fa6f6b"
      },
      "source": [
        "_, train_accuracy = model.evaluate(x1_train, y_train_shrec)\n",
        "_, test_accuracy = model.evaluate(x2_test, y_test_dhg)"
      ],
      "execution_count": null,
      "outputs": [
        {
          "output_type": "stream",
          "text": [
            "62/62 [==============================] - 10s 41ms/step - loss: 0.0034 - accuracy: 0.9990\n",
            "27/27 [==============================] - 1s 40ms/step - loss: 5.3822 - accuracy: 0.4107\n"
          ],
          "name": "stdout"
        }
      ]
    },
    {
      "cell_type": "code",
      "metadata": {
        "id": "33XaQbhT8nTp",
        "colab": {
          "base_uri": "https://localhost:8080/"
        },
        "outputId": "0af8ae0a-7266-4726-fd4d-1b3a463b9c07"
      },
      "source": [
        "print('Accuracy on train set: {:.2f}%'.format(100 * train_accuracy))\n",
        "print('Accuracy on test set: {:.2f}%'.format(100 * test_accuracy))"
      ],
      "execution_count": null,
      "outputs": [
        {
          "output_type": "stream",
          "text": [
            "Accuracy on train set: 100.00%\n",
            "Accuracy on test set: 40.48%\n"
          ],
          "name": "stdout"
        }
      ]
    },
    {
      "cell_type": "markdown",
      "metadata": {
        "id": "DsloIWyMA6EW"
      },
      "source": [
        "This code has been referenced from \n",
        "\n",
        "```\n",
        "@inproceedings{devineau2018deep,\n",
        "  title={Deep learning for hand gesture recognition on skeletal data},\n",
        "  author={Devineau, Guillaume and Moutarde, Fabien and Xi, Wang and Yang, Jie},\n",
        "  booktitle={2018 13th IEEE International Conference on Automatic Face \\& Gesture Recognition (FG 2018)},\n",
        "  pages={106--113},\n",
        "  year={2018},\n",
        "  organization={IEEE}\n",
        "}\n",
        "```\n"
      ]
    }
  ]
}