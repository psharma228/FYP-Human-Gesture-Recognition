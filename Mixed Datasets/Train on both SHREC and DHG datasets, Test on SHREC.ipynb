{
  "nbformat": 4,
  "nbformat_minor": 0,
  "metadata": {
    "colab": {
      "name": "TEST MIX4.ipynb",
      "provenance": [],
      "collapsed_sections": []
    },
    "kernelspec": {
      "name": "python3",
      "display_name": "Python 3"
    },
    "accelerator": "GPU"
  },
  "cells": [
    {
      "cell_type": "markdown",
      "metadata": {
        "id": "hoZM--qv6bnJ"
      },
      "source": [
        "Training Model on both SHREC and DHG datasets, Testing on SHREC"
      ]
    },
    {
      "cell_type": "markdown",
      "metadata": {
        "id": "l7s-mZ8o_O49"
      },
      "source": [
        "### 1. Imports"
      ]
    },
    {
      "cell_type": "code",
      "metadata": {
        "id": "DihykQPB_vxX",
        "colab": {
          "base_uri": "https://localhost:8080/"
        },
        "outputId": "88bfd9b4-9b59-458f-ec66-ea01863104e3"
      },
      "source": [
        "%tensorflow_version 2"
      ],
      "execution_count": null,
      "outputs": [
        {
          "output_type": "stream",
          "text": [
            "`%tensorflow_version` only switches the major version: 1.x or 2.x.\n",
            "You set: `2`. This will be interpreted as: `2.x`.\n",
            "\n",
            "\n",
            "TensorFlow 2.x selected.\n"
          ],
          "name": "stdout"
        }
      ]
    },
    {
      "cell_type": "code",
      "metadata": {
        "id": "A3q4CtFc8HoI"
      },
      "source": [
        "force_use_cpu = False\n",
        "\n",
        "if force_use_cpu:\n",
        "    import os\n",
        "    os.environ[\"CUDA_DEVICE_ORDER\"] = \"PCI_BUS_ID\"  \n",
        "    os.environ[\"CUDA_VISIBLE_DEVICES\"] = \"\"\n",
        "    \n",
        "    from tensorflow.keras import backend as K\n",
        "    print('There should not be a GPU in the following list:', K.tensorflow_backend._get_available_gpus())"
      ],
      "execution_count": null,
      "outputs": []
    },
    {
      "cell_type": "code",
      "metadata": {
        "id": "1Tvpr_Hb8KH5"
      },
      "source": [
        "import numpy\n",
        "import tensorflow\n",
        "import tensorflow.keras as keras\n",
        "import pickle\n",
        "import numpy as np\n",
        "import seaborn as sns\n",
        "from tensorflow.keras.utils import to_categorical\n",
        "from tensorflow.keras.utils import plot_model\n",
        "from tensorflow.keras.models import Model, Sequential\n",
        "from tensorflow.keras.layers import Input, Conv1D, AveragePooling1D, Dropout, Flatten, Lambda, Dense\n",
        "from tensorflow.keras.layers import concatenate\n",
        "from tensorflow.keras.backend import expand_dims\n",
        "from tensorflow.keras.optimizers import Adam\n",
        "from matplotlib import pyplot as plt\n",
        "from sklearn.metrics import accuracy_score\n",
        "from sklearn.metrics import confusion_matrix\n",
        "from sklearn.metrics import classification_report"
      ],
      "execution_count": null,
      "outputs": []
    },
    {
      "cell_type": "markdown",
      "metadata": {
        "id": "uzYLXmv4_RxX"
      },
      "source": [
        "### 2. Hyperparameters"
      ]
    },
    {
      "cell_type": "code",
      "metadata": {
        "id": "OUdciqbz8Mav"
      },
      "source": [
        "# model\n",
        "dropout_probability = 0.2\n",
        "duration = 100\n",
        "n_classes = 14\n",
        "n_channels = 66  "
      ],
      "execution_count": null,
      "outputs": []
    },
    {
      "cell_type": "markdown",
      "metadata": {
        "id": "trekjtXx_UKt"
      },
      "source": [
        "### 3. Create a model"
      ]
    },
    {
      "cell_type": "code",
      "metadata": {
        "id": "R8mUaURx8OBv"
      },
      "source": [
        "def create_model(n_classes, duration, n_channels, dropout_probability=0.2):\n",
        "    # Define model\n",
        "    model_input = Input(shape=(duration, n_channels))\n",
        "\n",
        "    # slice into channels\n",
        "    channel_inputs = Lambda(lambda x: tensorflow.split(x, num_or_size_splits=n_channels, axis=-1))(model_input)\n",
        "\n",
        "    features = []\n",
        "    for channel in range(n_channels):\n",
        "        channel_input = channel_inputs[channel]\n",
        "        # high branch\n",
        "        high = Conv1D(filters=8, kernel_size=7, padding='same', activation='relu', input_shape=(100, 1))(channel_input)\n",
        "        high = AveragePooling1D(pool_size=2)(high)\n",
        "        high = Conv1D(filters=4, kernel_size=7, padding='same', activation='relu')(high)\n",
        "        high = AveragePooling1D(pool_size=2)(high)\n",
        "        high = Conv1D(filters=4, kernel_size=7, padding='same', activation='relu')(high)\n",
        "        high = Dropout(dropout_probability)(high)\n",
        "        high = AveragePooling1D(pool_size=2)(high)\n",
        "        # low branch\n",
        "        low = Conv1D(filters=8, kernel_size=3, padding='same', activation='relu', input_shape=(100, 1))(channel_input)\n",
        "        low = AveragePooling1D(pool_size=2)(low)\n",
        "        low = Conv1D(filters=4, kernel_size=3, padding='same', activation='relu')(low)\n",
        "        low = AveragePooling1D(pool_size=2)(low)\n",
        "        low = Conv1D(filters=4, kernel_size=3, padding='same', activation='relu')(low)\n",
        "        low = Dropout(dropout_probability)(low)\n",
        "        low = AveragePooling1D(pool_size=2)(low)\n",
        "        # pooling branch\n",
        "        ap_residual = AveragePooling1D(pool_size=2, input_shape=(100, 1))(channel_input)\n",
        "        ap_residual = AveragePooling1D(pool_size=2)(ap_residual)\n",
        "        ap_residual = AveragePooling1D(pool_size=2)(ap_residual)\n",
        "        # channel output\n",
        "        channel_output = concatenate([high, low, ap_residual])\n",
        "        features.append(channel_output)\n",
        "\n",
        "    features = concatenate(features)\n",
        "    features = Flatten()(features)\n",
        "    features = Dense(units=1936, activation='relu')(features)\n",
        "\n",
        "    model_output = Dense(units=n_classes, activation='softmax')(features)\n",
        "\n",
        "    model = Model(inputs=[model_input], outputs=[model_output])\n",
        "    return model"
      ],
      "execution_count": null,
      "outputs": []
    },
    {
      "cell_type": "code",
      "metadata": {
        "id": "bDqzH-Xi5k_P"
      },
      "source": [
        "model = create_model(n_classes=n_classes, duration=duration, n_channels=n_channels, dropout_probability=dropout_probability)"
      ],
      "execution_count": null,
      "outputs": []
    },
    {
      "cell_type": "markdown",
      "metadata": {
        "id": "Xa-2zhyZ_a4s"
      },
      "source": [
        "### 4. Load data"
      ]
    },
    {
      "cell_type": "code",
      "metadata": {
        "id": "Q7Y63b9Z52HQ",
        "colab": {
          "base_uri": "https://localhost:8080/"
        },
        "outputId": "e8b6e457-74e4-437c-cc3c-d80cb74ef21b"
      },
      "source": [
        "\n",
        "use_shrec_dataset = True\n",
        "\n",
        "if use_shrec_dataset:\n",
        "\n",
        "    try:\n",
        "        # Connect Google Colab instance to Google Drive\n",
        "        from google.colab import drive\n",
        "        drive.mount('/gdrive')\n",
        "        !cp /gdrive/My\\ Drive/shrec_data.pckl shrec_data.pckl\n",
        "    except:\n",
        "        print(\"You're not in a Google Colab!\")\n",
        "\n",
        "    def load_data(filepath='./shrec_data.pckl'):\n",
        "        \"\"\"\n",
        "        Returns hand gesture sequences (X) and their associated labels (Y).\n",
        "        \"\"\"\n",
        "        file = open(filepath, 'rb')\n",
        "        data = pickle.load(file, encoding='latin1')\n",
        "        file.close()\n",
        "        return data['x_train'], data['x_test'], data['y_train_14'], data['y_train_28'], data['y_test_14'], data['y_test_28']\n",
        "\n",
        "    x1_train, x1_test, y1_train_14, y1_train_28, y1_test_14, y1_test_28 = load_data('shrec_data.pckl')\n",
        "    y1_train_14, y1_test_14 = numpy.array(y1_train_14), numpy.array(y1_test_14)\n",
        "    y1_train_28, y1_test_28 = numpy.array(y1_train_28), numpy.array(y1_test_28)\n",
        "    if n_classes == 14:\n",
        "        y_train_shrec = y1_train_14\n",
        "        y_test_shrec = y1_test_14\n",
        "    elif n_classes == 28:\n",
        "        y_train_shrec = y1_train_28\n",
        "        y_test_shrec = y1_test_28\n"
      ],
      "execution_count": null,
      "outputs": [
        {
          "output_type": "stream",
          "text": [
            "Mounted at /gdrive\n"
          ],
          "name": "stdout"
        }
      ]
    },
    {
      "cell_type": "code",
      "metadata": {
        "colab": {
          "base_uri": "https://localhost:8080/"
        },
        "id": "EYWVmkuOnOfq",
        "outputId": "a020193f-5cd1-4d30-ab5e-59fc01d309f7"
      },
      "source": [
        "\n",
        "use_dhg_dataset = True\n",
        "\n",
        "if use_dhg_dataset:\n",
        "\n",
        "    try:\n",
        "        # Connect Google Colab instance to Google Drive\n",
        "        from google.colab import drive\n",
        "        drive.mount('/gdrive',force_remount=True)\n",
        "        !cp /gdrive/My\\ Drive/dhg_data.pckl dhg_data.pckl\n",
        "    except:\n",
        "        print(\"You're not in a Google Colab!\")\n",
        "\n",
        "    def load_data(filepath='./dhg_data.pckl'):\n",
        "        \"\"\"\n",
        "        Returns hand gesture sequences (X) and their associated labels (Y).\n",
        "        \"\"\"\n",
        "        file = open(filepath, 'rb')\n",
        "        data = pickle.load(file, encoding='latin1')\n",
        "        file.close()\n",
        "        return data['x_train'], data['x_test'], data['y_train_14'], data['y_train_28'], data['y_test_14'], data['y_test_28']\n",
        "\n",
        "    x2_train, x2_test, y2_train_14, y2_train_28, y2_test_14, y2_test_28 = load_data('dhg_data.pckl')\n",
        "    y2_train_14, y2_test_14 = numpy.array(y2_train_14), numpy.array(y2_test_14)\n",
        "    y2_train_28, y2_test_28 = numpy.array(y2_train_28), numpy.array(y2_test_28)\n",
        "    if n_classes == 14:\n",
        "        y_train_dhg = y2_train_14\n",
        "        y_test_dhg = y2_test_14\n",
        "    elif n_classes == 28:\n",
        "        y_train_dhg = y2_train_28\n",
        "        y_test_dhg = y2_test_28\n"
      ],
      "execution_count": null,
      "outputs": [
        {
          "output_type": "stream",
          "text": [
            "Mounted at /gdrive\n"
          ],
          "name": "stdout"
        }
      ]
    },
    {
      "cell_type": "code",
      "metadata": {
        "id": "2p3CP1x68aU4"
      },
      "source": [
        "# Cross checking the data for DHG\n",
        "if y_train_dhg.min() > 0:\n",
        "  y_train_dhg = y_train_dhg - 1\n",
        "if y_test_dhg.min() > 0:\n",
        "  y_test_dhg = y_test_dhg - 1\n",
        "\n",
        "# Transform the labels to one-hot encoding for the cross-entropy loss\n",
        "y_train_dhg = to_categorical(y_train_dhg, num_classes=n_classes)\n",
        "y_test_dhg = to_categorical(y_test_dhg, num_classes=n_classes)"
      ],
      "execution_count": null,
      "outputs": []
    },
    {
      "cell_type": "code",
      "metadata": {
        "id": "-GD7cOxrpGZB"
      },
      "source": [
        "# Cross checking the data for SHREC\n",
        "if y_train_shrec.min() > 0:\n",
        "  y_train_shrec = y_train_shrec - 1\n",
        "if y_test_shrec.min() > 0:\n",
        "  y_test_shrec = y_test_shrec - 1\n",
        "\n",
        "# Transform the labels to one-hot encoding for the cross-entropy loss\n",
        "y_train_shrec = to_categorical(y_train_shrec, num_classes=n_classes)\n",
        "y_test_shrec = to_categorical(y_test_shrec, num_classes=n_classes)"
      ],
      "execution_count": null,
      "outputs": []
    },
    {
      "cell_type": "markdown",
      "metadata": {
        "id": "wpGorW-V_d1b"
      },
      "source": [
        "### 5. Training the model"
      ]
    },
    {
      "cell_type": "code",
      "metadata": {
        "id": "KlTlhEtK8cAJ"
      },
      "source": [
        "# Optimizer's Learning Rate\n",
        "learning_rate = 0.001\n",
        "optimizer = Adam(lr=learning_rate, beta_1=0.9, beta_2=0.999, epsilon=1e-8)\n",
        "loss = 'categorical_crossentropy'\n",
        "metrics = ['accuracy']\n",
        "model.compile(optimizer=optimizer, loss=loss, metrics=metrics)"
      ],
      "execution_count": null,
      "outputs": []
    },
    {
      "cell_type": "code",
      "metadata": {
        "colab": {
          "base_uri": "https://localhost:8080/"
        },
        "id": "ZdvHpzzhsuQZ",
        "outputId": "13cad267-96cb-4b06-adea-c9465a980b37"
      },
      "source": [
        "# Training the model\n",
        "history = model.fit(x2_train, y_train_dhg,epochs=50, batch_size=28)"
      ],
      "execution_count": null,
      "outputs": [
        {
          "output_type": "stream",
          "text": [
            "Epoch 1/50\n",
            "70/70 [==============================] - 8s 114ms/step - loss: 1.8924 - accuracy: 0.5036\n",
            "Epoch 2/50\n",
            "70/70 [==============================] - 8s 113ms/step - loss: 0.9887 - accuracy: 0.6867\n",
            "Epoch 3/50\n",
            "70/70 [==============================] - 8s 113ms/step - loss: 0.8302 - accuracy: 0.7240\n",
            "Epoch 4/50\n",
            "70/70 [==============================] - 8s 112ms/step - loss: 0.7224 - accuracy: 0.7597\n",
            "Epoch 5/50\n",
            "70/70 [==============================] - 8s 112ms/step - loss: 0.6149 - accuracy: 0.7964\n",
            "Epoch 6/50\n",
            "70/70 [==============================] - 8s 113ms/step - loss: 0.5927 - accuracy: 0.7964\n",
            "Epoch 7/50\n",
            "70/70 [==============================] - 8s 113ms/step - loss: 0.5494 - accuracy: 0.8117\n",
            "Epoch 8/50\n",
            "70/70 [==============================] - 8s 114ms/step - loss: 0.4940 - accuracy: 0.8311\n",
            "Epoch 9/50\n",
            "70/70 [==============================] - 8s 113ms/step - loss: 0.4338 - accuracy: 0.8577\n",
            "Epoch 10/50\n",
            "70/70 [==============================] - 8s 114ms/step - loss: 0.3788 - accuracy: 0.8776\n",
            "Epoch 11/50\n",
            "70/70 [==============================] - 8s 113ms/step - loss: 0.3588 - accuracy: 0.8765\n",
            "Epoch 12/50\n",
            "70/70 [==============================] - 8s 113ms/step - loss: 0.3251 - accuracy: 0.8923\n",
            "Epoch 13/50\n",
            "70/70 [==============================] - 8s 114ms/step - loss: 0.3067 - accuracy: 0.9026\n",
            "Epoch 14/50\n",
            "70/70 [==============================] - 8s 114ms/step - loss: 0.2736 - accuracy: 0.9071\n",
            "Epoch 15/50\n",
            "70/70 [==============================] - 8s 113ms/step - loss: 0.2504 - accuracy: 0.9179\n",
            "Epoch 16/50\n",
            "70/70 [==============================] - 8s 114ms/step - loss: 0.2368 - accuracy: 0.9204\n",
            "Epoch 17/50\n",
            "70/70 [==============================] - 8s 114ms/step - loss: 0.2165 - accuracy: 0.9306\n",
            "Epoch 18/50\n",
            "70/70 [==============================] - 8s 114ms/step - loss: 0.1918 - accuracy: 0.9327\n",
            "Epoch 19/50\n",
            "70/70 [==============================] - 8s 114ms/step - loss: 0.1969 - accuracy: 0.9383\n",
            "Epoch 20/50\n",
            "70/70 [==============================] - 8s 113ms/step - loss: 0.1487 - accuracy: 0.9510\n",
            "Epoch 21/50\n",
            "70/70 [==============================] - 8s 113ms/step - loss: 0.1529 - accuracy: 0.9597\n",
            "Epoch 22/50\n",
            "70/70 [==============================] - 8s 114ms/step - loss: 0.1334 - accuracy: 0.9561\n",
            "Epoch 23/50\n",
            "70/70 [==============================] - 8s 113ms/step - loss: 0.1548 - accuracy: 0.9444\n",
            "Epoch 24/50\n",
            "70/70 [==============================] - 8s 113ms/step - loss: 0.1815 - accuracy: 0.9418\n",
            "Epoch 25/50\n",
            "70/70 [==============================] - 8s 111ms/step - loss: 0.1452 - accuracy: 0.9480\n",
            "Epoch 26/50\n",
            "70/70 [==============================] - 8s 113ms/step - loss: 0.0997 - accuracy: 0.9689\n",
            "Epoch 27/50\n",
            "70/70 [==============================] - 8s 112ms/step - loss: 0.1029 - accuracy: 0.9653\n",
            "Epoch 28/50\n",
            "70/70 [==============================] - 8s 112ms/step - loss: 0.0963 - accuracy: 0.9679\n",
            "Epoch 29/50\n",
            "70/70 [==============================] - 8s 113ms/step - loss: 0.0869 - accuracy: 0.9745\n",
            "Epoch 30/50\n",
            "70/70 [==============================] - 8s 112ms/step - loss: 0.0824 - accuracy: 0.9750\n",
            "Epoch 31/50\n",
            "70/70 [==============================] - 8s 113ms/step - loss: 0.0710 - accuracy: 0.9755\n",
            "Epoch 32/50\n",
            "70/70 [==============================] - 8s 113ms/step - loss: 0.0662 - accuracy: 0.9832\n",
            "Epoch 33/50\n",
            "70/70 [==============================] - 8s 113ms/step - loss: 0.0650 - accuracy: 0.9816\n",
            "Epoch 34/50\n",
            "70/70 [==============================] - 8s 112ms/step - loss: 0.0640 - accuracy: 0.9827\n",
            "Epoch 35/50\n",
            "70/70 [==============================] - 8s 114ms/step - loss: 0.0708 - accuracy: 0.9816\n",
            "Epoch 36/50\n",
            "70/70 [==============================] - 8s 113ms/step - loss: 0.0621 - accuracy: 0.9796\n",
            "Epoch 37/50\n",
            "70/70 [==============================] - 8s 113ms/step - loss: 0.0550 - accuracy: 0.9837\n",
            "Epoch 38/50\n",
            "70/70 [==============================] - 8s 113ms/step - loss: 0.0510 - accuracy: 0.9862\n",
            "Epoch 39/50\n",
            "70/70 [==============================] - 8s 113ms/step - loss: 0.0417 - accuracy: 0.9898\n",
            "Epoch 40/50\n",
            "70/70 [==============================] - 8s 113ms/step - loss: 0.0501 - accuracy: 0.9832\n",
            "Epoch 41/50\n",
            "70/70 [==============================] - 8s 112ms/step - loss: 0.0347 - accuracy: 0.9944\n",
            "Epoch 42/50\n",
            "70/70 [==============================] - 8s 112ms/step - loss: 0.0229 - accuracy: 0.9949\n",
            "Epoch 43/50\n",
            "70/70 [==============================] - 8s 113ms/step - loss: 0.0729 - accuracy: 0.9760\n",
            "Epoch 44/50\n",
            "70/70 [==============================] - 8s 113ms/step - loss: 0.0787 - accuracy: 0.9714\n",
            "Epoch 45/50\n",
            "70/70 [==============================] - 8s 112ms/step - loss: 0.0873 - accuracy: 0.9704\n",
            "Epoch 46/50\n",
            "70/70 [==============================] - 8s 112ms/step - loss: 0.0736 - accuracy: 0.9750\n",
            "Epoch 47/50\n",
            "70/70 [==============================] - 8s 112ms/step - loss: 0.0571 - accuracy: 0.9816\n",
            "Epoch 48/50\n",
            "70/70 [==============================] - 8s 113ms/step - loss: 0.0997 - accuracy: 0.9673\n",
            "Epoch 49/50\n",
            "70/70 [==============================] - 8s 112ms/step - loss: 0.0832 - accuracy: 0.9770\n",
            "Epoch 50/50\n",
            "70/70 [==============================] - 8s 113ms/step - loss: 0.0409 - accuracy: 0.9883\n"
          ],
          "name": "stdout"
        }
      ]
    },
    {
      "cell_type": "code",
      "metadata": {
        "colab": {
          "base_uri": "https://localhost:8080/"
        },
        "id": "eBWJNaTrYRqi",
        "outputId": "e5ca960c-c245-4f29-a01d-0ffc6ac7c2f6"
      },
      "source": [
        "history = model.fit(x1_train, y_train_shrec,epochs=50, batch_size=28)\n"
      ],
      "execution_count": null,
      "outputs": [
        {
          "output_type": "stream",
          "text": [
            "Epoch 1/50\n",
            "70/70 [==============================] - 73s 110ms/step - loss: 2.8328 - accuracy: 0.1529\n",
            "Epoch 2/50\n",
            "70/70 [==============================] - 8s 110ms/step - loss: 1.4867 - accuracy: 0.5265\n",
            "Epoch 3/50\n",
            "70/70 [==============================] - 8s 109ms/step - loss: 0.9887 - accuracy: 0.6822\n",
            "Epoch 4/50\n",
            "70/70 [==============================] - 8s 109ms/step - loss: 0.8054 - accuracy: 0.7513\n",
            "Epoch 5/50\n",
            "70/70 [==============================] - 8s 110ms/step - loss: 0.6082 - accuracy: 0.8185\n",
            "Epoch 6/50\n",
            "70/70 [==============================] - 8s 109ms/step - loss: 0.5008 - accuracy: 0.8532\n",
            "Epoch 7/50\n",
            "70/70 [==============================] - 8s 107ms/step - loss: 0.4438 - accuracy: 0.8575\n",
            "Epoch 8/50\n",
            "70/70 [==============================] - 8s 110ms/step - loss: 0.4594 - accuracy: 0.8631\n",
            "Epoch 9/50\n",
            "70/70 [==============================] - 8s 112ms/step - loss: 0.3638 - accuracy: 0.8840\n",
            "Epoch 10/50\n",
            "70/70 [==============================] - 8s 110ms/step - loss: 0.2950 - accuracy: 0.9098\n",
            "Epoch 11/50\n",
            "70/70 [==============================] - 8s 112ms/step - loss: 0.3121 - accuracy: 0.8945\n",
            "Epoch 12/50\n",
            "70/70 [==============================] - 8s 112ms/step - loss: 0.2550 - accuracy: 0.9157\n",
            "Epoch 13/50\n",
            "70/70 [==============================] - 8s 113ms/step - loss: 0.2593 - accuracy: 0.9215\n",
            "Epoch 14/50\n",
            "70/70 [==============================] - 8s 112ms/step - loss: 0.2131 - accuracy: 0.9377\n",
            "Epoch 15/50\n",
            "70/70 [==============================] - 8s 109ms/step - loss: 0.2614 - accuracy: 0.9208\n",
            "Epoch 16/50\n",
            "70/70 [==============================] - 8s 109ms/step - loss: 0.1873 - accuracy: 0.9460\n",
            "Epoch 17/50\n",
            "70/70 [==============================] - 8s 110ms/step - loss: 0.1651 - accuracy: 0.9465\n",
            "Epoch 18/50\n",
            "70/70 [==============================] - 8s 110ms/step - loss: 0.1407 - accuracy: 0.9552\n",
            "Epoch 19/50\n",
            "70/70 [==============================] - 8s 110ms/step - loss: 0.1535 - accuracy: 0.9545\n",
            "Epoch 20/50\n",
            "70/70 [==============================] - 8s 111ms/step - loss: 0.1280 - accuracy: 0.9591\n",
            "Epoch 21/50\n",
            "70/70 [==============================] - 8s 112ms/step - loss: 0.1606 - accuracy: 0.9467\n",
            "Epoch 22/50\n",
            "70/70 [==============================] - 8s 112ms/step - loss: 0.1168 - accuracy: 0.9594\n",
            "Epoch 23/50\n",
            "70/70 [==============================] - 8s 115ms/step - loss: 0.1286 - accuracy: 0.9534\n",
            "Epoch 24/50\n",
            "70/70 [==============================] - 8s 111ms/step - loss: 0.0952 - accuracy: 0.9704\n",
            "Epoch 25/50\n",
            "70/70 [==============================] - 8s 111ms/step - loss: 0.0837 - accuracy: 0.9736\n",
            "Epoch 26/50\n",
            "70/70 [==============================] - 8s 114ms/step - loss: 0.1301 - accuracy: 0.9596\n",
            "Epoch 27/50\n",
            "70/70 [==============================] - 8s 114ms/step - loss: 0.1283 - accuracy: 0.9540\n",
            "Epoch 28/50\n",
            "70/70 [==============================] - 8s 117ms/step - loss: 0.1256 - accuracy: 0.9570\n",
            "Epoch 29/50\n",
            "70/70 [==============================] - 8s 113ms/step - loss: 0.0929 - accuracy: 0.9674\n",
            "Epoch 30/50\n",
            "70/70 [==============================] - 8s 113ms/step - loss: 0.1033 - accuracy: 0.9605\n",
            "Epoch 31/50\n",
            "70/70 [==============================] - 8s 113ms/step - loss: 0.0932 - accuracy: 0.9666\n",
            "Epoch 32/50\n",
            "70/70 [==============================] - 8s 115ms/step - loss: 0.1205 - accuracy: 0.9559\n",
            "Epoch 33/50\n",
            "70/70 [==============================] - 8s 115ms/step - loss: 0.0645 - accuracy: 0.9814\n",
            "Epoch 34/50\n",
            "70/70 [==============================] - 8s 114ms/step - loss: 0.0728 - accuracy: 0.9774\n",
            "Epoch 35/50\n",
            "70/70 [==============================] - 8s 113ms/step - loss: 0.0393 - accuracy: 0.9860\n",
            "Epoch 36/50\n",
            "70/70 [==============================] - 8s 113ms/step - loss: 0.0825 - accuracy: 0.9789\n",
            "Epoch 37/50\n",
            "70/70 [==============================] - 8s 113ms/step - loss: 0.1169 - accuracy: 0.9596\n",
            "Epoch 38/50\n",
            "70/70 [==============================] - 8s 113ms/step - loss: 0.1211 - accuracy: 0.9628\n",
            "Epoch 39/50\n",
            "70/70 [==============================] - 8s 113ms/step - loss: 0.0745 - accuracy: 0.9769\n",
            "Epoch 40/50\n",
            "70/70 [==============================] - 8s 113ms/step - loss: 0.0474 - accuracy: 0.9843\n",
            "Epoch 41/50\n",
            "70/70 [==============================] - 8s 112ms/step - loss: 0.0343 - accuracy: 0.9897\n",
            "Epoch 42/50\n",
            "70/70 [==============================] - 8s 111ms/step - loss: 0.0337 - accuracy: 0.9907\n",
            "Epoch 43/50\n",
            "70/70 [==============================] - 8s 115ms/step - loss: 0.0185 - accuracy: 0.9964\n",
            "Epoch 44/50\n",
            "70/70 [==============================] - 8s 114ms/step - loss: 0.0514 - accuracy: 0.9870\n",
            "Epoch 45/50\n",
            "70/70 [==============================] - 8s 114ms/step - loss: 0.0439 - accuracy: 0.9870\n",
            "Epoch 46/50\n",
            "70/70 [==============================] - 8s 115ms/step - loss: 0.1013 - accuracy: 0.9753\n",
            "Epoch 47/50\n",
            "70/70 [==============================] - 8s 113ms/step - loss: 0.0367 - accuracy: 0.9879\n",
            "Epoch 48/50\n",
            "70/70 [==============================] - 8s 115ms/step - loss: 0.0839 - accuracy: 0.9723\n",
            "Epoch 49/50\n",
            "70/70 [==============================] - 8s 115ms/step - loss: 0.0581 - accuracy: 0.9853\n",
            "Epoch 50/50\n",
            "70/70 [==============================] - 8s 114ms/step - loss: 0.1193 - accuracy: 0.9619\n"
          ],
          "name": "stdout"
        }
      ]
    },
    {
      "cell_type": "code",
      "metadata": {
        "colab": {
          "base_uri": "https://localhost:8080/"
        },
        "id": "OXer2yp9ZzW2",
        "outputId": "26ae9041-b719-44cc-9d4a-79d44afcf7af"
      },
      "source": [
        "new_var= model.predict(x1_test)\n",
        "try_new=confusion_matrix( y_test_shrec.argmax(axis=1),new_var.argmax(axis=1))\n",
        "matrix_new = classification_report( y_test_shrec.argmax(axis=1),new_var.argmax(axis=1))\n",
        "print(matrix_new)\n"
      ],
      "execution_count": null,
      "outputs": [
        {
          "output_type": "stream",
          "text": [
            "              precision    recall  f1-score   support\n",
            "\n",
            "           0       0.44      0.34      0.38        65\n",
            "           1       0.19      0.06      0.10        63\n",
            "           2       0.44      0.79      0.57        58\n",
            "           3       0.52      0.56      0.54        57\n",
            "           4       0.78      0.44      0.56        70\n",
            "           5       0.90      0.42      0.57        65\n",
            "           6       0.40      0.52      0.45        56\n",
            "           7       0.76      0.55      0.64        64\n",
            "           8       0.21      0.57      0.31        49\n",
            "           9       0.46      0.30      0.36        53\n",
            "          10       0.57      0.39      0.47        61\n",
            "          11       0.81      0.78      0.79        54\n",
            "          12       0.26      0.34      0.29        61\n",
            "          13       0.76      0.86      0.81        64\n",
            "\n",
            "    accuracy                           0.49       840\n",
            "   macro avg       0.54      0.49      0.49       840\n",
            "weighted avg       0.54      0.49      0.49       840\n",
            "\n"
          ],
          "name": "stdout"
        }
      ]
    },
    {
      "cell_type": "code",
      "metadata": {
        "colab": {
          "base_uri": "https://localhost:8080/",
          "height": 606
        },
        "id": "-aJudizQZBkW",
        "outputId": "90ba6bbd-c12e-4ec0-9df0-18bb966de218"
      },
      "source": [
        "try_new_normal = try_new.astype('float') / try_new.sum(axis=1)[:, numpy.newaxis]\n",
        "fig, ax = plt.subplots(figsize=(10,10))\n",
        "sns.heatmap(try_new_normal, annot=True, fmt='.2f', cbar=True,cmap=plt.cm.binary)\n",
        "plt.ylabel('Actual')\n",
        "plt.xlabel('Predicted')\n",
        "plt.show(block=False)"
      ],
      "execution_count": null,
      "outputs": [
        {
          "output_type": "display_data",
          "data": {
            "image/png": "[encoded data removed]",
            "text/plain": [
              "<Figure size 720x720 with 2 Axes>"
            ]
          },
          "metadata": {
            "tags": [],
            "needs_background": "light"
          }
        }
      ]
    },
    {
      "cell_type": "code",
      "metadata": {
        "colab": {
          "base_uri": "https://localhost:8080/"
        },
        "id": "WEuZeI__eWtJ",
        "outputId": "bc27cf56-164f-4f65-c123-3ca8ebd93b10"
      },
      "source": [
        "_, train_accuracy = model.evaluate(x1_train, y_train_shrec)\n",
        "_, test_accuracy = model.evaluate(x1_test, y_test_shrec)"
      ],
      "execution_count": null,
      "outputs": [
        {
          "output_type": "stream",
          "text": [
            "62/62 [==============================] - 3s 42ms/step - loss: 6.6183 - accuracy: 0.5061\n",
            "27/27 [==============================] - 1s 44ms/step - loss: 7.1620 - accuracy: 0.4905\n"
          ],
          "name": "stdout"
        }
      ]
    },
    {
      "cell_type": "markdown",
      "metadata": {
        "id": "DsloIWyMA6EW"
      },
      "source": [
        "This code has been referenced from \n",
        "\n",
        "```\n",
        "@inproceedings{devineau2018deep,\n",
        "  title={Deep learning for hand gesture recognition on skeletal data},\n",
        "  author={Devineau, Guillaume and Moutarde, Fabien and Xi, Wang and Yang, Jie},\n",
        "  booktitle={2018 13th IEEE International Conference on Automatic Face \\& Gesture Recognition (FG 2018)},\n",
        "  pages={106--113},\n",
        "  year={2018},\n",
        "  organization={IEEE}\n",
        "}\n",
        "```\n"
      ]
    }
  ]
}