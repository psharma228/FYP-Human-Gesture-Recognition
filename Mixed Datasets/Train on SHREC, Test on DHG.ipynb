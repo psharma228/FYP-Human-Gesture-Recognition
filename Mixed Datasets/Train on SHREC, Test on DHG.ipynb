{
  "nbformat": 4,
  "nbformat_minor": 0,
  "metadata": {
    "colab": {
      "name": "Test MIX1.ipynb",
      "provenance": [],
      "collapsed_sections": []
    },
    "kernelspec": {
      "name": "python3",
      "display_name": "Python 3"
    },
    "accelerator": "GPU"
  },
  "cells": [
    {
      "cell_type": "markdown",
      "metadata": {
        "id": "hoZM--qv6bnJ"
      },
      "source": [
        "Training Model on SHREC dataset, Testing on DHG"
      ]
    },
    {
      "cell_type": "markdown",
      "metadata": {
        "id": "l7s-mZ8o_O49"
      },
      "source": [
        "### 1. Imports"
      ]
    },
    {
      "cell_type": "code",
      "metadata": {
        "id": "DihykQPB_vxX",
        "colab": {
          "base_uri": "https://localhost:8080/"
        },
        "outputId": "3fca677b-c441-4991-dc88-6885112ace9a"
      },
      "source": [
        "%tensorflow_version 2"
      ],
      "execution_count": null,
      "outputs": [
        {
          "output_type": "stream",
          "text": [
            "`%tensorflow_version` only switches the major version: 1.x or 2.x.\n",
            "You set: `2`. This will be interpreted as: `2.x`.\n",
            "\n",
            "\n",
            "TensorFlow 2.x selected.\n"
          ],
          "name": "stdout"
        }
      ]
    },
    {
      "cell_type": "code",
      "metadata": {
        "id": "A3q4CtFc8HoI"
      },
      "source": [
        "force_use_cpu = False\n",
        "\n",
        "if force_use_cpu:\n",
        "    import os\n",
        "    os.environ[\"CUDA_DEVICE_ORDER\"] = \"PCI_BUS_ID\" \n",
        "    os.environ[\"CUDA_VISIBLE_DEVICES\"] = \"\"\n",
        "    \n",
        "    from tensorflow.keras import backend as K\n",
        "    print('There should not be a GPU in the following list:', K.tensorflow_backend._get_available_gpus())"
      ],
      "execution_count": null,
      "outputs": []
    },
    {
      "cell_type": "code",
      "metadata": {
        "id": "1Tvpr_Hb8KH5"
      },
      "source": [
        "import numpy\n",
        "import tensorflow\n",
        "import tensorflow.keras as keras\n",
        "import pickle\n",
        "import seaborn as sns\n",
        "from tensorflow.keras.utils import to_categorical\n",
        "from tensorflow.keras.utils import plot_model\n",
        "from tensorflow.keras.models import Model, Sequential\n",
        "from tensorflow.keras.layers import Input, Conv1D, AveragePooling1D, Dropout, Flatten, Lambda, Dense\n",
        "from tensorflow.keras.layers import concatenate\n",
        "from tensorflow.keras.backend import expand_dims\n",
        "from tensorflow.keras.optimizers import Adam\n",
        "from matplotlib import pyplot as plt\n",
        "from sklearn.metrics import accuracy_score\n",
        "from sklearn.metrics import confusion_matrix\n",
        "from sklearn.metrics import classification_report"
      ],
      "execution_count": null,
      "outputs": []
    },
    {
      "cell_type": "markdown",
      "metadata": {
        "id": "uzYLXmv4_RxX"
      },
      "source": [
        "### 2. Hyperparameters"
      ]
    },
    {
      "cell_type": "code",
      "metadata": {
        "id": "OUdciqbz8Mav"
      },
      "source": [
        "# model\n",
        "dropout_probability = 0.2\n",
        "duration = 100\n",
        "n_classes = 14\n",
        "n_channels = 66 "
      ],
      "execution_count": null,
      "outputs": []
    },
    {
      "cell_type": "markdown",
      "metadata": {
        "id": "trekjtXx_UKt"
      },
      "source": [
        "### 3. Create a model"
      ]
    },
    {
      "cell_type": "code",
      "metadata": {
        "id": "R8mUaURx8OBv"
      },
      "source": [
        "def create_model(n_classes, duration, n_channels, dropout_probability=0.2):\n",
        "    # Define model\n",
        "    model_input = Input(shape=(duration, n_channels))\n",
        "\n",
        "    # slice into channels\n",
        "    channel_inputs = Lambda(lambda x: tensorflow.split(x, num_or_size_splits=n_channels, axis=-1))(model_input)\n",
        "\n",
        "    features = []\n",
        "    for channel in range(n_channels):\n",
        "        channel_input = channel_inputs[channel]\n",
        "        # high branch\n",
        "        high = Conv1D(filters=8, kernel_size=7, padding='same', activation='relu', input_shape=(100, 1))(channel_input)\n",
        "        high = AveragePooling1D(pool_size=2)(high)\n",
        "        high = Conv1D(filters=4, kernel_size=7, padding='same', activation='relu')(high)\n",
        "        high = AveragePooling1D(pool_size=2)(high)\n",
        "        high = Conv1D(filters=4, kernel_size=7, padding='same', activation='relu')(high)\n",
        "        high = Dropout(dropout_probability)(high)\n",
        "        high = AveragePooling1D(pool_size=2)(high)\n",
        "        # low branch\n",
        "        low = Conv1D(filters=8, kernel_size=3, padding='same', activation='relu', input_shape=(100, 1))(channel_input)\n",
        "        low = AveragePooling1D(pool_size=2)(low)\n",
        "        low = Conv1D(filters=4, kernel_size=3, padding='same', activation='relu')(low)\n",
        "        low = AveragePooling1D(pool_size=2)(low)\n",
        "        low = Conv1D(filters=4, kernel_size=3, padding='same', activation='relu')(low)\n",
        "        low = Dropout(dropout_probability)(low)\n",
        "        low = AveragePooling1D(pool_size=2)(low)\n",
        "        # pooling branch\n",
        "        ap_residual = AveragePooling1D(pool_size=2, input_shape=(100, 1))(channel_input)\n",
        "        ap_residual = AveragePooling1D(pool_size=2)(ap_residual)\n",
        "        ap_residual = AveragePooling1D(pool_size=2)(ap_residual)\n",
        "        # channel output\n",
        "        channel_output = concatenate([high, low, ap_residual])\n",
        "        features.append(channel_output)\n",
        "\n",
        "    features = concatenate(features)\n",
        "    features = Flatten()(features)\n",
        "    features = Dense(units=1936, activation='relu')(features)\n",
        "\n",
        "    model_output = Dense(units=n_classes, activation='softmax')(features)\n",
        "\n",
        "    model = Model(inputs=[model_input], outputs=[model_output])\n",
        "    return model"
      ],
      "execution_count": null,
      "outputs": []
    },
    {
      "cell_type": "code",
      "metadata": {
        "id": "bDqzH-Xi5k_P"
      },
      "source": [
        "model = create_model(n_classes=n_classes, duration=duration, n_channels=n_channels, dropout_probability=dropout_probability)"
      ],
      "execution_count": null,
      "outputs": []
    },
    {
      "cell_type": "markdown",
      "metadata": {
        "id": "Xa-2zhyZ_a4s"
      },
      "source": [
        "### 4. Load data"
      ]
    },
    {
      "cell_type": "code",
      "metadata": {
        "id": "Q7Y63b9Z52HQ",
        "colab": {
          "base_uri": "https://localhost:8080/"
        },
        "outputId": "3e7a52d6-d90c-4bdf-ccf9-75f1d1df333d"
      },
      "source": [
        "\n",
        "use_shrec_dataset = True\n",
        "\n",
        "if use_shrec_dataset:\n",
        "\n",
        "    try:\n",
        "        # Connect Google Colab instance to Google Drive\n",
        "        from google.colab import drive\n",
        "        drive.mount('/gdrive',force_remount=True)\n",
        "        !cp /gdrive/My\\ Drive/shrec_data.pckl shrec_data.pckl\n",
        "    except:\n",
        "        print(\"You're not in a Google Colab!\")\n",
        "\n",
        "    def load_data(filepath='./shrec_data.pckl'):\n",
        "        \"\"\"\n",
        "        Returns hand gesture sequences (X) and their associated labels (Y).\n",
        "        \"\"\"\n",
        "        file = open(filepath, 'rb')\n",
        "        data = pickle.load(file, encoding='latin1') \n",
        "        file.close()\n",
        "        return data['x_train'], data['x_test'], data['y_train_14'], data['y_train_28'], data['y_test_14'], data['y_test_28']\n",
        "\n",
        "    x1_train, x1_test, y1_train_14, y1_train_28, y1_test_14, y1_test_28 = load_data('shrec_data.pckl')\n",
        "    y1_train_14, y1_test_14 = numpy.array(y1_train_14), numpy.array(y1_test_14)\n",
        "    y1_train_28, y1_test_28 = numpy.array(y1_train_28), numpy.array(y1_test_28)\n",
        "    if n_classes == 14:\n",
        "        y_train_shrec = y1_train_14\n",
        "        y_test_shrec = y1_test_14\n",
        "    elif n_classes == 28:\n",
        "        y_train_shrec = y1_train_28\n",
        "        y_test_shrec = y1_test_28\n"
      ],
      "execution_count": null,
      "outputs": [
        {
          "output_type": "stream",
          "text": [
            "Mounted at /gdrive\n"
          ],
          "name": "stdout"
        }
      ]
    },
    {
      "cell_type": "code",
      "metadata": {
        "colab": {
          "base_uri": "https://localhost:8080/"
        },
        "id": "EYWVmkuOnOfq",
        "outputId": "75cb1981-29d4-4b2d-cd45-66b470f8f56c"
      },
      "source": [
        "\n",
        "use_dhg_dataset = True\n",
        "\n",
        "if use_dhg_dataset:\n",
        "\n",
        "    try:\n",
        "        # Connect Google Colab instance to Google Drive\n",
        "        from google.colab import drive\n",
        "        drive.mount('/gdrive',force_remount=True)\n",
        "        !cp /gdrive/My\\ Drive/dhg_data.pckl dhg_data.pckl\n",
        "    except:\n",
        "        print(\"You're not in a Google Colab!\")\n",
        "\n",
        "    def load_data(filepath='./dhg_data.pckl'):\n",
        "        \"\"\"\n",
        "        Returns hand gesture sequences (X) and their associated labels (Y).\n",
        "        \"\"\"\n",
        "        file = open(filepath, 'rb')\n",
        "        data = pickle.load(file, encoding='latin1')\n",
        "        file.close()\n",
        "        return data['x_train'], data['x_test'], data['y_train_14'], data['y_train_28'], data['y_test_14'], data['y_test_28']\n",
        "\n",
        "    x2_train, x2_test, y2_train_14, y2_train_28, y2_test_14, y2_test_28 = load_data('dhg_data.pckl')\n",
        "    y2_train_14, y2_test_14 = numpy.array(y2_train_14), numpy.array(y2_test_14)\n",
        "    y2_train_28, y2_test_28 = numpy.array(y2_train_28), numpy.array(y2_test_28)\n",
        "    if n_classes == 14:\n",
        "        y_train_dhg = y2_train_14\n",
        "        y_test_dhg = y2_test_14\n",
        "    elif n_classes == 28:\n",
        "        y_train_dhg = y2_train_28\n",
        "        y_test_dhg = y2_test_28\n"
      ],
      "execution_count": null,
      "outputs": [
        {
          "output_type": "stream",
          "text": [
            "Mounted at /gdrive\n"
          ],
          "name": "stdout"
        }
      ]
    },
    {
      "cell_type": "code",
      "metadata": {
        "id": "2p3CP1x68aU4"
      },
      "source": [
        "# Cross checking the data for DHG\n",
        "if y_train_dhg.min() > 0:\n",
        "  y_train_dhg = y_train_dhg - 1\n",
        "if y_test_dhg.min() > 0:\n",
        "  y_test_dhg = y_test_dhg - 1\n",
        "\n",
        "# Transform the labels to one-hot encoding for the cross-entropy loss\n",
        "y_train_dhg = to_categorical(y_train_dhg, num_classes=n_classes)\n",
        "y_test_dhg = to_categorical(y_test_dhg, num_classes=n_classes)"
      ],
      "execution_count": null,
      "outputs": []
    },
    {
      "cell_type": "code",
      "metadata": {
        "id": "-GD7cOxrpGZB"
      },
      "source": [
        "# Cross checking the data for SHREC\n",
        "if y_train_shrec.min() > 0:\n",
        "  y_train_shrec = y_train_shrec - 1\n",
        "if y_test_shrec.min() > 0:\n",
        "  y_test_shrec = y_test_shrec - 1\n",
        "\n",
        "# Transform the labels to one-hot encoding for the cross-entropy loss\n",
        "y_train_shrec = to_categorical(y_train_shrec, num_classes=n_classes)\n",
        "y_test_shrec = to_categorical(y_test_shrec, num_classes=n_classes)"
      ],
      "execution_count": null,
      "outputs": []
    },
    {
      "cell_type": "markdown",
      "metadata": {
        "id": "wpGorW-V_d1b"
      },
      "source": [
        "### 5. Training the model"
      ]
    },
    {
      "cell_type": "code",
      "metadata": {
        "id": "KlTlhEtK8cAJ"
      },
      "source": [
        "# Optimizer's Learning Rate\n",
        "learning_rate = 0.001\n",
        "optimizer = Adam(lr=learning_rate, beta_1=0.9, beta_2=0.999, epsilon=1e-8)\n",
        "loss = 'categorical_crossentropy'\n",
        "metrics = ['accuracy']\n",
        "model.compile(optimizer=optimizer, loss=loss, metrics=metrics)"
      ],
      "execution_count": null,
      "outputs": []
    },
    {
      "cell_type": "code",
      "metadata": {
        "id": "a8_oKg3u8eEb",
        "colab": {
          "base_uri": "https://localhost:8080/"
        },
        "outputId": "b13f7d2a-e012-4d74-97b9-c18778c6bd4d"
      },
      "source": [
        "# Training the model\n",
        "history = model.fit(x1_train, y_train_shrec, validation_data=(x2_test, y_test_dhg), epochs=50, batch_size=28)\n"
      ],
      "execution_count": null,
      "outputs": [
        {
          "output_type": "stream",
          "text": [
            "Epoch 1/50\n",
            "70/70 [==============================] - 81s 225ms/step - loss: 3.0032 - accuracy: 0.1374 - val_loss: 2.7370 - val_accuracy: 0.0988\n",
            "Epoch 2/50\n",
            "70/70 [==============================] - 8s 118ms/step - loss: 1.7144 - accuracy: 0.4435 - val_loss: 3.7638 - val_accuracy: 0.1190\n",
            "Epoch 3/50\n",
            "70/70 [==============================] - 8s 118ms/step - loss: 1.0861 - accuracy: 0.6468 - val_loss: 3.7336 - val_accuracy: 0.1250\n",
            "Epoch 4/50\n",
            "70/70 [==============================] - 8s 118ms/step - loss: 0.8613 - accuracy: 0.7269 - val_loss: 3.8850 - val_accuracy: 0.1583\n",
            "Epoch 5/50\n",
            "70/70 [==============================] - 8s 118ms/step - loss: 0.6627 - accuracy: 0.7998 - val_loss: 3.9660 - val_accuracy: 0.1714\n",
            "Epoch 6/50\n",
            "70/70 [==============================] - 8s 117ms/step - loss: 0.5413 - accuracy: 0.8462 - val_loss: 4.2248 - val_accuracy: 0.1917\n",
            "Epoch 7/50\n",
            "70/70 [==============================] - 8s 118ms/step - loss: 0.4681 - accuracy: 0.8659 - val_loss: 4.2830 - val_accuracy: 0.2000\n",
            "Epoch 8/50\n",
            "70/70 [==============================] - 8s 117ms/step - loss: 0.4297 - accuracy: 0.8721 - val_loss: 4.5036 - val_accuracy: 0.1964\n",
            "Epoch 9/50\n",
            "70/70 [==============================] - 8s 117ms/step - loss: 0.3644 - accuracy: 0.8971 - val_loss: 4.5888 - val_accuracy: 0.2012\n",
            "Epoch 10/50\n",
            "70/70 [==============================] - 8s 120ms/step - loss: 0.3209 - accuracy: 0.9017 - val_loss: 4.7908 - val_accuracy: 0.2060\n",
            "Epoch 11/50\n",
            "70/70 [==============================] - 8s 117ms/step - loss: 0.3279 - accuracy: 0.9007 - val_loss: 4.9298 - val_accuracy: 0.2238\n",
            "Epoch 12/50\n",
            "70/70 [==============================] - 8s 119ms/step - loss: 0.3075 - accuracy: 0.8968 - val_loss: 5.0923 - val_accuracy: 0.1976\n",
            "Epoch 13/50\n",
            "70/70 [==============================] - 8s 118ms/step - loss: 0.2778 - accuracy: 0.9125 - val_loss: 5.1507 - val_accuracy: 0.2024\n",
            "Epoch 14/50\n",
            "70/70 [==============================] - 8s 117ms/step - loss: 0.2317 - accuracy: 0.9196 - val_loss: 4.7822 - val_accuracy: 0.2036\n",
            "Epoch 15/50\n",
            "70/70 [==============================] - 8s 116ms/step - loss: 0.2207 - accuracy: 0.9313 - val_loss: 4.7510 - val_accuracy: 0.2512\n",
            "Epoch 16/50\n",
            "70/70 [==============================] - 8s 117ms/step - loss: 0.1913 - accuracy: 0.9480 - val_loss: 5.3916 - val_accuracy: 0.2310\n",
            "Epoch 17/50\n",
            "70/70 [==============================] - 8s 117ms/step - loss: 0.1706 - accuracy: 0.9506 - val_loss: 5.5274 - val_accuracy: 0.2536\n",
            "Epoch 18/50\n",
            "70/70 [==============================] - 8s 117ms/step - loss: 0.1426 - accuracy: 0.9573 - val_loss: 5.6506 - val_accuracy: 0.2440\n",
            "Epoch 19/50\n",
            "70/70 [==============================] - 8s 117ms/step - loss: 0.1778 - accuracy: 0.9393 - val_loss: 5.6072 - val_accuracy: 0.2619\n",
            "Epoch 20/50\n",
            "70/70 [==============================] - 8s 117ms/step - loss: 0.1677 - accuracy: 0.9510 - val_loss: 5.2422 - val_accuracy: 0.2631\n",
            "Epoch 21/50\n",
            "70/70 [==============================] - 8s 118ms/step - loss: 0.1151 - accuracy: 0.9660 - val_loss: 5.3938 - val_accuracy: 0.2726\n",
            "Epoch 22/50\n",
            "70/70 [==============================] - 8s 119ms/step - loss: 0.1081 - accuracy: 0.9577 - val_loss: 5.9955 - val_accuracy: 0.2524\n",
            "Epoch 23/50\n",
            "70/70 [==============================] - 8s 119ms/step - loss: 0.1414 - accuracy: 0.9545 - val_loss: 5.5560 - val_accuracy: 0.2762\n",
            "Epoch 24/50\n",
            "70/70 [==============================] - 8s 117ms/step - loss: 0.1076 - accuracy: 0.9682 - val_loss: 6.1787 - val_accuracy: 0.2452\n",
            "Epoch 25/50\n",
            "70/70 [==============================] - 8s 118ms/step - loss: 0.1111 - accuracy: 0.9611 - val_loss: 5.9674 - val_accuracy: 0.2738\n",
            "Epoch 26/50\n",
            "70/70 [==============================] - 8s 118ms/step - loss: 0.0878 - accuracy: 0.9729 - val_loss: 5.7499 - val_accuracy: 0.3012\n",
            "Epoch 27/50\n",
            "70/70 [==============================] - 8s 117ms/step - loss: 0.0941 - accuracy: 0.9661 - val_loss: 6.3116 - val_accuracy: 0.2607\n",
            "Epoch 28/50\n",
            "70/70 [==============================] - 8s 117ms/step - loss: 0.1034 - accuracy: 0.9697 - val_loss: 6.5359 - val_accuracy: 0.2631\n",
            "Epoch 29/50\n",
            "70/70 [==============================] - 8s 117ms/step - loss: 0.0705 - accuracy: 0.9792 - val_loss: 6.3284 - val_accuracy: 0.2679\n",
            "Epoch 30/50\n",
            "70/70 [==============================] - 8s 116ms/step - loss: 0.1382 - accuracy: 0.9622 - val_loss: 6.2550 - val_accuracy: 0.2833\n",
            "Epoch 31/50\n",
            "70/70 [==============================] - 8s 118ms/step - loss: 0.0484 - accuracy: 0.9870 - val_loss: 6.7055 - val_accuracy: 0.2857\n",
            "Epoch 32/50\n",
            "70/70 [==============================] - 8s 118ms/step - loss: 0.0940 - accuracy: 0.9729 - val_loss: 6.9816 - val_accuracy: 0.2667\n",
            "Epoch 33/50\n",
            "70/70 [==============================] - 8s 116ms/step - loss: 0.0642 - accuracy: 0.9799 - val_loss: 6.8406 - val_accuracy: 0.2917\n",
            "Epoch 34/50\n",
            "70/70 [==============================] - 8s 118ms/step - loss: 0.0384 - accuracy: 0.9832 - val_loss: 7.5109 - val_accuracy: 0.2690\n",
            "Epoch 35/50\n",
            "70/70 [==============================] - 8s 120ms/step - loss: 0.0940 - accuracy: 0.9767 - val_loss: 6.6353 - val_accuracy: 0.2940\n",
            "Epoch 36/50\n",
            "70/70 [==============================] - 8s 117ms/step - loss: 0.0417 - accuracy: 0.9882 - val_loss: 7.2650 - val_accuracy: 0.2952\n",
            "Epoch 37/50\n",
            "70/70 [==============================] - 8s 118ms/step - loss: 0.0353 - accuracy: 0.9879 - val_loss: 6.9442 - val_accuracy: 0.3143\n",
            "Epoch 38/50\n",
            "70/70 [==============================] - 8s 121ms/step - loss: 0.0436 - accuracy: 0.9864 - val_loss: 8.0127 - val_accuracy: 0.2619\n",
            "Epoch 39/50\n",
            "70/70 [==============================] - 8s 118ms/step - loss: 0.0805 - accuracy: 0.9730 - val_loss: 7.7992 - val_accuracy: 0.2440\n",
            "Epoch 40/50\n",
            "70/70 [==============================] - 8s 119ms/step - loss: 0.0451 - accuracy: 0.9842 - val_loss: 7.6534 - val_accuracy: 0.2964\n",
            "Epoch 41/50\n",
            "70/70 [==============================] - 9s 122ms/step - loss: 0.0375 - accuracy: 0.9862 - val_loss: 7.6281 - val_accuracy: 0.2952\n",
            "Epoch 42/50\n",
            "70/70 [==============================] - 8s 121ms/step - loss: 0.0358 - accuracy: 0.9911 - val_loss: 7.9026 - val_accuracy: 0.2845\n",
            "Epoch 43/50\n",
            "70/70 [==============================] - 8s 118ms/step - loss: 0.0686 - accuracy: 0.9756 - val_loss: 8.3301 - val_accuracy: 0.2667\n",
            "Epoch 44/50\n",
            "70/70 [==============================] - 8s 117ms/step - loss: 0.0837 - accuracy: 0.9709 - val_loss: 8.0206 - val_accuracy: 0.2810\n",
            "Epoch 45/50\n",
            "70/70 [==============================] - 8s 117ms/step - loss: 0.0681 - accuracy: 0.9780 - val_loss: 7.6666 - val_accuracy: 0.2952\n",
            "Epoch 46/50\n",
            "70/70 [==============================] - 8s 122ms/step - loss: 0.0254 - accuracy: 0.9947 - val_loss: 7.3270 - val_accuracy: 0.3071\n",
            "Epoch 47/50\n",
            "70/70 [==============================] - 8s 117ms/step - loss: 0.0820 - accuracy: 0.9824 - val_loss: 7.0436 - val_accuracy: 0.3071\n",
            "Epoch 48/50\n",
            "70/70 [==============================] - 8s 118ms/step - loss: 0.0485 - accuracy: 0.9812 - val_loss: 8.3924 - val_accuracy: 0.2762\n",
            "Epoch 49/50\n",
            "70/70 [==============================] - 8s 117ms/step - loss: 0.0647 - accuracy: 0.9776 - val_loss: 8.0066 - val_accuracy: 0.3095\n",
            "Epoch 50/50\n",
            "70/70 [==============================] - 8s 119ms/step - loss: 0.0314 - accuracy: 0.9879 - val_loss: 9.4717 - val_accuracy: 0.2702\n"
          ],
          "name": "stdout"
        }
      ]
    },
    {
      "cell_type": "code",
      "metadata": {
        "colab": {
          "base_uri": "https://localhost:8080/"
        },
        "id": "fSLx8qK1Gr2I",
        "outputId": "46d7a4a0-59d4-43c1-d3f9-316adb3c7ada"
      },
      "source": [
        "new_var= model.predict(x2_test)\n",
        "try_new=confusion_matrix(y_test_dhg.argmax(axis=1),new_var.argmax(axis=1))\n",
        "matrix_new = classification_report(y_test_dhg.argmax(axis=1),new_var.argmax(axis=1))\n",
        "print(matrix_new)"
      ],
      "execution_count": null,
      "outputs": [
        {
          "output_type": "stream",
          "text": [
            "              precision    recall  f1-score   support\n",
            "\n",
            "           0       0.50      0.14      0.22        64\n",
            "           1       0.51      0.38      0.43        69\n",
            "           2       0.50      0.08      0.14        62\n",
            "           3       0.18      0.82      0.29        56\n",
            "           4       0.71      0.09      0.17        53\n",
            "           5       0.40      0.23      0.29        60\n",
            "           6       0.47      0.13      0.20        54\n",
            "           7       0.24      0.24      0.24        68\n",
            "           8       0.14      0.06      0.08        53\n",
            "           9       0.23      0.16      0.19        69\n",
            "          10       0.36      0.07      0.11        60\n",
            "          11       0.86      0.42      0.56        57\n",
            "          12       0.42      0.25      0.31        60\n",
            "          13       0.18      0.76      0.29        55\n",
            "\n",
            "    accuracy                           0.27       840\n",
            "   macro avg       0.41      0.27      0.25       840\n",
            "weighted avg       0.41      0.27      0.25       840\n",
            "\n"
          ],
          "name": "stdout"
        }
      ]
    },
    {
      "cell_type": "code",
      "metadata": {
        "colab": {
          "base_uri": "https://localhost:8080/",
          "height": 606
        },
        "id": "-_QrSpSdGu6e",
        "outputId": "7581b92d-14e1-441b-b82c-994b583854c9"
      },
      "source": [
        "try_new_normal = try_new.astype('float') / try_new.sum(axis=1)[:, numpy.newaxis]\n",
        "fig, ax = plt.subplots(figsize=(10,10))\n",
        "sns.heatmap(try_new_normal, annot=True, fmt='.2f', cbar=True,cmap=plt.cm.binary)\n",
        "plt.ylabel('Actual')\n",
        "plt.xlabel('Predicted')\n",
        "plt.show(block=False)"
      ],
      "execution_count": null,
      "outputs": [
        {
          "output_type": "display_data",
          "data": {
            "image/png": "[encoded data removed]",
            "text/plain": [
              "<Figure size 720x720 with 2 Axes>"
            ]
          },
          "metadata": {
            "tags": [],
            "needs_background": "light"
          }
        }
      ]
    },
    {
      "cell_type": "code",
      "metadata": {
        "id": "Ga37lO9X8fZU",
        "colab": {
          "base_uri": "https://localhost:8080/",
          "height": 573
        },
        "outputId": "048b00dc-8606-4a8b-c409-4d580e9a4f46"
      },
      "source": [
        "# Accuracy Plot\n",
        "plt.plot(history.history['accuracy'])\n",
        "plt.plot(history.history['val_accuracy'])\n",
        "plt.title('model accuracy')\n",
        "plt.ylabel('accuracy')\n",
        "plt.xlabel('epoch')\n",
        "plt.legend(['train', 'test'], loc='lower right')\n",
        "plt.show()\n",
        "# Loss Plot\n",
        "plt.plot(history.history['loss'])\n",
        "plt.plot(history.history['val_loss'])\n",
        "plt.title('model loss')\n",
        "plt.ylabel('loss')\n",
        "plt.xlabel('epoch')\n",
        "plt.legend(['train', 'test'], loc='upper right')\n",
        "plt.show()"
      ],
      "execution_count": null,
      "outputs": [
        {
          "output_type": "display_data",
          "data": {
            "image/png": "[encoded data removed]",
            "text/plain": [
              "<Figure size 432x288 with 1 Axes>"
            ]
          },
          "metadata": {
            "tags": [],
            "needs_background": "light"
          }
        },
        {
          "output_type": "display_data",
          "data": {
            "image/png": "[encoded data removed]",
            "text/plain": [
              "<Figure size 432x288 with 1 Axes>"
            ]
          },
          "metadata": {
            "tags": [],
            "needs_background": "light"
          }
        }
      ]
    },
    {
      "cell_type": "code",
      "metadata": {
        "id": "Ud2fXeYy8mUt",
        "colab": {
          "base_uri": "https://localhost:8080/"
        },
        "outputId": "1a027758-1caf-40ac-ccd4-00861de5f2c2"
      },
      "source": [
        "_, train_accuracy = model.evaluate(x1_train, y_train_shrec)\n",
        "_, test_accuracy = model.evaluate(x2_test, y_test_dhg)"
      ],
      "execution_count": null,
      "outputs": [
        {
          "output_type": "stream",
          "text": [
            "62/62 [==============================] - 10s 42ms/step - loss: 0.0705 - accuracy: 0.9796\n",
            "27/27 [==============================] - 1s 41ms/step - loss: 9.4717 - accuracy: 0.2702\n"
          ],
          "name": "stdout"
        }
      ]
    },
    {
      "cell_type": "code",
      "metadata": {
        "id": "33XaQbhT8nTp",
        "colab": {
          "base_uri": "https://localhost:8080/"
        },
        "outputId": "572703a7-e6a3-4ead-922c-85e2c92d0a9e"
      },
      "source": [
        "print('Accuracy on train set: {:.2f}%'.format(100 * train_accuracy))\n",
        "print('Accuracy on test set: {:.2f}%'.format(100 * test_accuracy))"
      ],
      "execution_count": null,
      "outputs": [
        {
          "output_type": "stream",
          "text": [
            "Accuracy on train set: 97.96%\n",
            "Accuracy on test set: 27.02%\n"
          ],
          "name": "stdout"
        }
      ]
    },
    {
      "cell_type": "markdown",
      "metadata": {
        "id": "DsloIWyMA6EW"
      },
      "source": [
        "This code has been referenced from \n",
        "\n",
        "```\n",
        "@inproceedings{devineau2018deep,\n",
        "  title={Deep learning for hand gesture recognition on skeletal data},\n",
        "  author={Devineau, Guillaume and Moutarde, Fabien and Xi, Wang and Yang, Jie},\n",
        "  booktitle={2018 13th IEEE International Conference on Automatic Face \\& Gesture Recognition (FG 2018)},\n",
        "  pages={106--113},\n",
        "  year={2018},\n",
        "  organization={IEEE}\n",
        "}\n",
        "```\n"
      ]
    }
  ]
}