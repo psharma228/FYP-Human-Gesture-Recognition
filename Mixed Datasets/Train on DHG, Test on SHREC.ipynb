{
  "nbformat": 4,
  "nbformat_minor": 0,
  "metadata": {
    "colab": {
      "name": "TEST MIX2.ipynb",
      "provenance": [],
      "collapsed_sections": []
    },
    "kernelspec": {
      "name": "python3",
      "display_name": "Python 3"
    },
    "accelerator": "GPU"
  },
  "cells": [
    {
      "cell_type": "markdown",
      "metadata": {
        "id": "hoZM--qv6bnJ"
      },
      "source": [
        "Training Model on DHG dataset, Testing on SHREC dataset"
      ]
    },
    {
      "cell_type": "markdown",
      "metadata": {
        "id": "l7s-mZ8o_O49"
      },
      "source": [
        "### 1. Imports"
      ]
    },
    {
      "cell_type": "code",
      "metadata": {
        "id": "DihykQPB_vxX",
        "colab": {
          "base_uri": "https://localhost:8080/"
        },
        "outputId": "c01143d1-1a6f-4cd8-f686-22908a35d58f"
      },
      "source": [
        "%tensorflow_version 2"
      ],
      "execution_count": null,
      "outputs": [
        {
          "output_type": "stream",
          "text": [
            "`%tensorflow_version` only switches the major version: 1.x or 2.x.\n",
            "You set: `2`. This will be interpreted as: `2.x`.\n",
            "\n",
            "\n",
            "TensorFlow 2.x selected.\n"
          ],
          "name": "stdout"
        }
      ]
    },
    {
      "cell_type": "code",
      "metadata": {
        "id": "A3q4CtFc8HoI"
      },
      "source": [
        "force_use_cpu = False\n",
        "\n",
        "if force_use_cpu:\n",
        "    import os\n",
        "    os.environ[\"CUDA_DEVICE_ORDER\"] = \"PCI_BUS_ID\" \n",
        "    os.environ[\"CUDA_VISIBLE_DEVICES\"] = \"\"\n",
        "    \n",
        "    from tensorflow.keras import backend as K\n",
        "    print('There should not be a GPU in the following list:', K.tensorflow_backend._get_available_gpus())"
      ],
      "execution_count": null,
      "outputs": []
    },
    {
      "cell_type": "code",
      "metadata": {
        "id": "1Tvpr_Hb8KH5"
      },
      "source": [
        "import numpy\n",
        "import tensorflow\n",
        "import tensorflow.keras as keras\n",
        "import pickle\n",
        "import seaborn as sns\n",
        "from tensorflow.keras.utils import to_categorical\n",
        "from tensorflow.keras.utils import plot_model\n",
        "from tensorflow.keras.models import Model, Sequential\n",
        "from tensorflow.keras.layers import Input, Conv1D, AveragePooling1D, Dropout, Flatten, Lambda, Dense\n",
        "from tensorflow.keras.layers import concatenate\n",
        "from tensorflow.keras.backend import expand_dims\n",
        "from tensorflow.keras.optimizers import Adam\n",
        "from matplotlib import pyplot as plt\n",
        "from sklearn.metrics import accuracy_score\n",
        "from sklearn.metrics import confusion_matrix\n",
        "from sklearn.metrics import classification_report"
      ],
      "execution_count": null,
      "outputs": []
    },
    {
      "cell_type": "markdown",
      "metadata": {
        "id": "uzYLXmv4_RxX"
      },
      "source": [
        "### 2. Hyperparameters"
      ]
    },
    {
      "cell_type": "code",
      "metadata": {
        "id": "OUdciqbz8Mav"
      },
      "source": [
        "# model\n",
        "dropout_probability = 0.2\n",
        "duration = 100\n",
        "n_classes = 14\n",
        "n_channels = 66 "
      ],
      "execution_count": null,
      "outputs": []
    },
    {
      "cell_type": "markdown",
      "metadata": {
        "id": "trekjtXx_UKt"
      },
      "source": [
        "### 3. Create a model"
      ]
    },
    {
      "cell_type": "code",
      "metadata": {
        "id": "R8mUaURx8OBv"
      },
      "source": [
        "def create_model(n_classes, duration, n_channels, dropout_probability=0.2):\n",
        "    # Define model\n",
        "    model_input = Input(shape=(duration, n_channels))\n",
        "\n",
        "    # slice into channels\n",
        "    channel_inputs = Lambda(lambda x: tensorflow.split(x, num_or_size_splits=n_channels, axis=-1))(model_input)\n",
        "\n",
        "    features = []\n",
        "    for channel in range(n_channels):\n",
        "        channel_input = channel_inputs[channel]\n",
        "        # high branch\n",
        "        high = Conv1D(filters=8, kernel_size=7, padding='same', activation='relu', input_shape=(100, 1))(channel_input)\n",
        "        high = AveragePooling1D(pool_size=2)(high)\n",
        "        high = Conv1D(filters=4, kernel_size=7, padding='same', activation='relu')(high)\n",
        "        high = AveragePooling1D(pool_size=2)(high)\n",
        "        high = Conv1D(filters=4, kernel_size=7, padding='same', activation='relu')(high)\n",
        "        high = Dropout(dropout_probability)(high)\n",
        "        high = AveragePooling1D(pool_size=2)(high)\n",
        "        # low branch\n",
        "        low = Conv1D(filters=8, kernel_size=3, padding='same', activation='relu', input_shape=(100, 1))(channel_input)\n",
        "        low = AveragePooling1D(pool_size=2)(low)\n",
        "        low = Conv1D(filters=4, kernel_size=3, padding='same', activation='relu')(low)\n",
        "        low = AveragePooling1D(pool_size=2)(low)\n",
        "        low = Conv1D(filters=4, kernel_size=3, padding='same', activation='relu')(low)\n",
        "        low = Dropout(dropout_probability)(low)\n",
        "        low = AveragePooling1D(pool_size=2)(low)\n",
        "        # pooling branch\n",
        "        ap_residual = AveragePooling1D(pool_size=2, input_shape=(100, 1))(channel_input)\n",
        "        ap_residual = AveragePooling1D(pool_size=2)(ap_residual)\n",
        "        ap_residual = AveragePooling1D(pool_size=2)(ap_residual)\n",
        "        # channel output\n",
        "        channel_output = concatenate([high, low, ap_residual])\n",
        "        features.append(channel_output)\n",
        "\n",
        "    features = concatenate(features)\n",
        "    features = Flatten()(features)\n",
        "    features = Dense(units=1936, activation='relu')(features)\n",
        "\n",
        "    model_output = Dense(units=n_classes, activation='softmax')(features)\n",
        "\n",
        "    model = Model(inputs=[model_input], outputs=[model_output])\n",
        "    return model"
      ],
      "execution_count": null,
      "outputs": []
    },
    {
      "cell_type": "code",
      "metadata": {
        "id": "bDqzH-Xi5k_P"
      },
      "source": [
        "model = create_model(n_classes=n_classes, duration=duration, n_channels=n_channels, dropout_probability=dropout_probability)"
      ],
      "execution_count": null,
      "outputs": []
    },
    {
      "cell_type": "markdown",
      "metadata": {
        "id": "Xa-2zhyZ_a4s"
      },
      "source": [
        "### 4. Load data"
      ]
    },
    {
      "cell_type": "code",
      "metadata": {
        "id": "Q7Y63b9Z52HQ",
        "colab": {
          "base_uri": "https://localhost:8080/"
        },
        "outputId": "4febc86d-ffc7-4de5-e70f-89d4aa1e8f4d"
      },
      "source": [
        "\n",
        "use_shrec_dataset = True\n",
        "\n",
        "if use_shrec_dataset:\n",
        "\n",
        "    try:\n",
        "        # Connect Google Colab instance to Google Drive\n",
        "        from google.colab import drive\n",
        "        drive.mount('/gdrive')\n",
        "        !cp /gdrive/My\\ Drive/shrec_data.pckl shrec_data.pckl\n",
        "    except:\n",
        "        print(\"You're not in a Google Colab!\")\n",
        "\n",
        "    def load_data(filepath='./shrec_data.pckl'):\n",
        "        \"\"\"\n",
        "        Returns hand gesture sequences (X) and their associated labels (Y).\n",
        "        \"\"\"\n",
        "        file = open(filepath, 'rb')\n",
        "        data = pickle.load(file, encoding='latin1')  \n",
        "        file.close()\n",
        "        return data['x_train'], data['x_test'], data['y_train_14'], data['y_train_28'], data['y_test_14'], data['y_test_28']\n",
        "\n",
        "    x1_train, x1_test, y1_train_14, y1_train_28, y1_test_14, y1_test_28 = load_data('shrec_data.pckl')\n",
        "    y1_train_14, y1_test_14 = numpy.array(y1_train_14), numpy.array(y1_test_14)\n",
        "    y1_train_28, y1_test_28 = numpy.array(y1_train_28), numpy.array(y1_test_28)\n",
        "    if n_classes == 14:\n",
        "        y_train_shrec = y1_train_14\n",
        "        y_test_shrec = y1_test_14\n",
        "    elif n_classes == 28:\n",
        "        y_train_shrec = y1_train_28\n",
        "        y_test_shrec = y1_test_28\n"
      ],
      "execution_count": null,
      "outputs": [
        {
          "output_type": "stream",
          "text": [
            "Mounted at /gdrive\n"
          ],
          "name": "stdout"
        }
      ]
    },
    {
      "cell_type": "code",
      "metadata": {
        "colab": {
          "base_uri": "https://localhost:8080/"
        },
        "id": "EYWVmkuOnOfq",
        "outputId": "92ca4d50-582c-434c-f766-1ab40418f089"
      },
      "source": [
        "\n",
        "use_dhg_dataset = True\n",
        "\n",
        "if use_dhg_dataset:\n",
        "\n",
        "    try:\n",
        "        # Connect Google Colab instance to Google Drive\n",
        "        from google.colab import drive\n",
        "        drive.mount('/gdrive',force_remount=True)\n",
        "        !cp /gdrive/My\\ Drive/dhg_data.pckl dhg_data.pckl\n",
        "    except:\n",
        "        print(\"You're not in a Google Colab!\")\n",
        "\n",
        "    def load_data(filepath='./dhg_data.pckl'):\n",
        "        \"\"\"\n",
        "        Returns hand gesture sequences (X) and their associated labels (Y).\n",
        "        \"\"\"\n",
        "        file = open(filepath, 'rb')\n",
        "        data = pickle.load(file, encoding='latin1') \n",
        "        file.close()\n",
        "        return data['x_train'], data['x_test'], data['y_train_14'], data['y_train_28'], data['y_test_14'], data['y_test_28']\n",
        "\n",
        "    x2_train, x2_test, y2_train_14, y2_train_28, y2_test_14, y2_test_28 = load_data('dhg_data.pckl')\n",
        "    y2_train_14, y2_test_14 = numpy.array(y2_train_14), numpy.array(y2_test_14)\n",
        "    y2_train_28, y2_test_28 = numpy.array(y2_train_28), numpy.array(y2_test_28)\n",
        "    if n_classes == 14:\n",
        "        y_train_dhg = y2_train_14\n",
        "        y_test_dhg = y2_test_14\n",
        "    elif n_classes == 28:\n",
        "        y_train_dhg = y2_train_28\n",
        "        y_test_dhg = y2_test_28\n"
      ],
      "execution_count": null,
      "outputs": [
        {
          "output_type": "stream",
          "text": [
            "Mounted at /gdrive\n"
          ],
          "name": "stdout"
        }
      ]
    },
    {
      "cell_type": "code",
      "metadata": {
        "id": "2p3CP1x68aU4"
      },
      "source": [
        "# Ensure the label values are between 0 and n_classes-1\n",
        "if y_train_dhg.min() > 0:\n",
        "  y_train_dhg = y_train_dhg - 1\n",
        "if y_test_dhg.min() > 0:\n",
        "  y_test_dhg = y_test_dhg - 1\n",
        "\n",
        "# Transform the labels to one-hot encoding for the cross-entropy loss\n",
        "y_train_dhg = to_categorical(y_train_dhg, num_classes=n_classes)\n",
        "y_test_dhg = to_categorical(y_test_dhg, num_classes=n_classes)"
      ],
      "execution_count": null,
      "outputs": []
    },
    {
      "cell_type": "code",
      "metadata": {
        "id": "-GD7cOxrpGZB"
      },
      "source": [
        "# Ensure the label values are between 0 and n_classes-1\n",
        "if y_train_shrec.min() > 0:\n",
        "  y_train_shrec = y_train_shrec - 1\n",
        "if y_test_shrec.min() > 0:\n",
        "  y_test_shrec = y_test_shrec - 1\n",
        "\n",
        "# Transform the labels to one-hot encoding for the cross-entropy loss\n",
        "y_train_shrec = to_categorical(y_train_shrec, num_classes=n_classes)\n",
        "y_test_shrec = to_categorical(y_test_shrec, num_classes=n_classes)"
      ],
      "execution_count": null,
      "outputs": []
    },
    {
      "cell_type": "markdown",
      "metadata": {
        "id": "wpGorW-V_d1b"
      },
      "source": [
        "### 5. Training the model"
      ]
    },
    {
      "cell_type": "code",
      "metadata": {
        "id": "KlTlhEtK8cAJ"
      },
      "source": [
        "# Training: Optimizer's Learning Rate\n",
        "learning_rate = 0.001\n",
        "\n",
        "# We use Adam to optimize a multi-class classification task\n",
        "optimizer = Adam(lr=learning_rate, beta_1=0.9, beta_2=0.999, epsilon=1e-8)\n",
        "loss = 'categorical_crossentropy'\n",
        "metrics = ['accuracy']\n",
        "model.compile(optimizer=optimizer, loss=loss, metrics=metrics)"
      ],
      "execution_count": null,
      "outputs": []
    },
    {
      "cell_type": "code",
      "metadata": {
        "colab": {
          "base_uri": "https://localhost:8080/"
        },
        "id": "ZdvHpzzhsuQZ",
        "outputId": "56c364f3-73c7-4e01-9c3d-ca882af8b696"
      },
      "source": [
        "# Start the training\n",
        "\n",
        "# ...with an existing validation set:\n",
        "history = model.fit(x2_train, y_train_dhg, validation_data=(x1_test, y_test_shrec), epochs=50, batch_size=28)\n",
        "\n",
        "# ...or, if there is no validation set:\n",
        "# history = model.fit(x_train, y_train, validation_split=0.33, epochs=100, batch_size=32)"
      ],
      "execution_count": null,
      "outputs": [
        {
          "output_type": "stream",
          "text": [
            "Epoch 1/50\n",
            "70/70 [==============================] - 78s 222ms/step - loss: 3.1576 - accuracy: 0.0824 - val_loss: 2.6671 - val_accuracy: 0.0774\n",
            "Epoch 2/50\n",
            "70/70 [==============================] - 8s 114ms/step - loss: 2.4296 - accuracy: 0.2109 - val_loss: 2.9827 - val_accuracy: 0.1464\n",
            "Epoch 3/50\n",
            "70/70 [==============================] - 8s 115ms/step - loss: 1.8691 - accuracy: 0.3950 - val_loss: 3.8129 - val_accuracy: 0.1405\n",
            "Epoch 4/50\n",
            "70/70 [==============================] - 8s 113ms/step - loss: 1.5100 - accuracy: 0.5109 - val_loss: 4.3878 - val_accuracy: 0.1810\n",
            "Epoch 5/50\n",
            "70/70 [==============================] - 8s 114ms/step - loss: 1.3759 - accuracy: 0.5465 - val_loss: 4.6089 - val_accuracy: 0.2286\n",
            "Epoch 6/50\n",
            "70/70 [==============================] - 8s 112ms/step - loss: 1.2335 - accuracy: 0.6058 - val_loss: 4.7720 - val_accuracy: 0.2393\n",
            "Epoch 7/50\n",
            "70/70 [==============================] - 8s 114ms/step - loss: 1.0468 - accuracy: 0.6651 - val_loss: 5.0910 - val_accuracy: 0.2333\n",
            "Epoch 8/50\n",
            "70/70 [==============================] - 8s 114ms/step - loss: 0.9015 - accuracy: 0.6978 - val_loss: 5.1121 - val_accuracy: 0.2464\n",
            "Epoch 9/50\n",
            "70/70 [==============================] - 8s 114ms/step - loss: 0.9337 - accuracy: 0.7017 - val_loss: 5.2288 - val_accuracy: 0.3131\n",
            "Epoch 10/50\n",
            "70/70 [==============================] - 8s 114ms/step - loss: 0.7614 - accuracy: 0.7639 - val_loss: 5.4203 - val_accuracy: 0.3357\n",
            "Epoch 11/50\n",
            "70/70 [==============================] - 8s 114ms/step - loss: 0.6668 - accuracy: 0.7675 - val_loss: 5.2390 - val_accuracy: 0.3464\n",
            "Epoch 12/50\n",
            "70/70 [==============================] - 8s 115ms/step - loss: 0.7067 - accuracy: 0.7669 - val_loss: 5.4581 - val_accuracy: 0.3429\n",
            "Epoch 13/50\n",
            "70/70 [==============================] - 8s 115ms/step - loss: 0.5512 - accuracy: 0.8122 - val_loss: 5.7036 - val_accuracy: 0.3345\n",
            "Epoch 14/50\n",
            "70/70 [==============================] - 8s 114ms/step - loss: 0.6028 - accuracy: 0.7994 - val_loss: 5.6945 - val_accuracy: 0.3274\n",
            "Epoch 15/50\n",
            "70/70 [==============================] - 8s 114ms/step - loss: 0.5356 - accuracy: 0.8262 - val_loss: 5.7621 - val_accuracy: 0.3833\n",
            "Epoch 16/50\n",
            "70/70 [==============================] - 8s 114ms/step - loss: 0.4867 - accuracy: 0.8298 - val_loss: 5.8556 - val_accuracy: 0.3905\n",
            "Epoch 17/50\n",
            "70/70 [==============================] - 8s 115ms/step - loss: 0.4633 - accuracy: 0.8422 - val_loss: 5.9540 - val_accuracy: 0.3940\n",
            "Epoch 18/50\n",
            "70/70 [==============================] - 8s 114ms/step - loss: 0.3875 - accuracy: 0.8835 - val_loss: 6.1626 - val_accuracy: 0.3774\n",
            "Epoch 19/50\n",
            "70/70 [==============================] - 8s 115ms/step - loss: 0.3908 - accuracy: 0.8688 - val_loss: 6.2039 - val_accuracy: 0.3821\n",
            "Epoch 20/50\n",
            "70/70 [==============================] - 8s 115ms/step - loss: 0.3911 - accuracy: 0.8628 - val_loss: 6.6586 - val_accuracy: 0.3321\n",
            "Epoch 21/50\n",
            "70/70 [==============================] - 8s 115ms/step - loss: 0.3420 - accuracy: 0.8882 - val_loss: 6.6921 - val_accuracy: 0.3857\n",
            "Epoch 22/50\n",
            "70/70 [==============================] - 8s 114ms/step - loss: 0.3406 - accuracy: 0.8935 - val_loss: 6.8149 - val_accuracy: 0.3798\n",
            "Epoch 23/50\n",
            "70/70 [==============================] - 8s 114ms/step - loss: 0.3386 - accuracy: 0.8783 - val_loss: 6.5783 - val_accuracy: 0.3607\n",
            "Epoch 24/50\n",
            "70/70 [==============================] - 8s 114ms/step - loss: 0.3165 - accuracy: 0.8910 - val_loss: 7.2296 - val_accuracy: 0.3560\n",
            "Epoch 25/50\n",
            "70/70 [==============================] - 8s 117ms/step - loss: 0.3063 - accuracy: 0.8882 - val_loss: 7.1927 - val_accuracy: 0.3750\n",
            "Epoch 26/50\n",
            "70/70 [==============================] - 8s 115ms/step - loss: 0.2851 - accuracy: 0.9046 - val_loss: 7.9195 - val_accuracy: 0.3702\n",
            "Epoch 27/50\n",
            "70/70 [==============================] - 8s 115ms/step - loss: 0.2570 - accuracy: 0.9091 - val_loss: 8.0478 - val_accuracy: 0.3595\n",
            "Epoch 28/50\n",
            "70/70 [==============================] - 8s 114ms/step - loss: 0.2370 - accuracy: 0.9237 - val_loss: 7.8796 - val_accuracy: 0.3619\n",
            "Epoch 29/50\n",
            "70/70 [==============================] - 8s 115ms/step - loss: 0.2055 - accuracy: 0.9309 - val_loss: 8.2401 - val_accuracy: 0.3810\n",
            "Epoch 30/50\n",
            "70/70 [==============================] - 8s 115ms/step - loss: 0.1845 - accuracy: 0.9340 - val_loss: 8.2017 - val_accuracy: 0.3821\n",
            "Epoch 31/50\n",
            "70/70 [==============================] - 8s 114ms/step - loss: 0.2221 - accuracy: 0.9245 - val_loss: 8.6398 - val_accuracy: 0.3786\n",
            "Epoch 32/50\n",
            "70/70 [==============================] - 8s 114ms/step - loss: 0.1757 - accuracy: 0.9439 - val_loss: 9.2184 - val_accuracy: 0.3655\n",
            "Epoch 33/50\n",
            "70/70 [==============================] - 8s 116ms/step - loss: 0.1634 - accuracy: 0.9434 - val_loss: 8.9577 - val_accuracy: 0.3750\n",
            "Epoch 34/50\n",
            "70/70 [==============================] - 8s 115ms/step - loss: 0.1766 - accuracy: 0.9404 - val_loss: 8.8981 - val_accuracy: 0.3774\n",
            "Epoch 35/50\n",
            "70/70 [==============================] - 8s 117ms/step - loss: 0.1886 - accuracy: 0.9411 - val_loss: 9.3846 - val_accuracy: 0.3619\n",
            "Epoch 36/50\n",
            "70/70 [==============================] - 9s 126ms/step - loss: 0.1347 - accuracy: 0.9556 - val_loss: 9.8681 - val_accuracy: 0.3738\n",
            "Epoch 37/50\n",
            "70/70 [==============================] - 8s 119ms/step - loss: 0.1115 - accuracy: 0.9723 - val_loss: 9.6016 - val_accuracy: 0.3774\n",
            "Epoch 38/50\n",
            "70/70 [==============================] - 8s 115ms/step - loss: 0.1000 - accuracy: 0.9720 - val_loss: 9.8506 - val_accuracy: 0.3619\n",
            "Epoch 39/50\n",
            "70/70 [==============================] - 8s 117ms/step - loss: 0.1394 - accuracy: 0.9514 - val_loss: 10.3803 - val_accuracy: 0.3619\n",
            "Epoch 40/50\n",
            "70/70 [==============================] - 8s 114ms/step - loss: 0.1520 - accuracy: 0.9521 - val_loss: 9.9852 - val_accuracy: 0.3786\n",
            "Epoch 41/50\n",
            "70/70 [==============================] - 8s 116ms/step - loss: 0.1415 - accuracy: 0.9472 - val_loss: 10.2482 - val_accuracy: 0.3714\n",
            "Epoch 42/50\n",
            "70/70 [==============================] - 8s 117ms/step - loss: 0.1085 - accuracy: 0.9597 - val_loss: 10.3549 - val_accuracy: 0.3726\n",
            "Epoch 43/50\n",
            "70/70 [==============================] - 8s 115ms/step - loss: 0.0856 - accuracy: 0.9737 - val_loss: 11.2288 - val_accuracy: 0.3560\n",
            "Epoch 44/50\n",
            "70/70 [==============================] - 8s 114ms/step - loss: 0.1114 - accuracy: 0.9634 - val_loss: 11.0059 - val_accuracy: 0.3690\n",
            "Epoch 45/50\n",
            "70/70 [==============================] - 8s 115ms/step - loss: 0.0815 - accuracy: 0.9801 - val_loss: 11.6338 - val_accuracy: 0.3702\n",
            "Epoch 46/50\n",
            "70/70 [==============================] - 8s 114ms/step - loss: 0.0649 - accuracy: 0.9818 - val_loss: 10.8779 - val_accuracy: 0.3690\n",
            "Epoch 47/50\n",
            "70/70 [==============================] - 8s 114ms/step - loss: 0.0778 - accuracy: 0.9744 - val_loss: 10.8101 - val_accuracy: 0.3893\n",
            "Epoch 48/50\n",
            "70/70 [==============================] - 8s 115ms/step - loss: 0.0997 - accuracy: 0.9671 - val_loss: 11.6432 - val_accuracy: 0.3619\n",
            "Epoch 49/50\n",
            "70/70 [==============================] - 8s 116ms/step - loss: 0.0715 - accuracy: 0.9813 - val_loss: 11.7691 - val_accuracy: 0.3643\n",
            "Epoch 50/50\n",
            "70/70 [==============================] - 8s 115ms/step - loss: 0.0630 - accuracy: 0.9807 - val_loss: 12.2680 - val_accuracy: 0.3488\n"
          ],
          "name": "stdout"
        }
      ]
    },
    {
      "cell_type": "code",
      "metadata": {
        "colab": {
          "base_uri": "https://localhost:8080/"
        },
        "id": "Q9AVLMuqBzed",
        "outputId": "6e238065-8edf-4e14-fda6-c02d38294902"
      },
      "source": [
        "new_var= model.predict(x1_test)\n",
        "try_new=confusion_matrix(y_test_shrec.argmax(axis=1),new_var.argmax(axis=1))\n",
        "matrix_new = classification_report(y_test_shrec.argmax(axis=1),new_var.argmax(axis=1))\n",
        "print(matrix_new)"
      ],
      "execution_count": null,
      "outputs": [
        {
          "output_type": "stream",
          "text": [
            "              precision    recall  f1-score   support\n",
            "\n",
            "           0       0.24      0.37      0.29        65\n",
            "           1       0.30      0.05      0.08        63\n",
            "           2       0.40      0.78      0.53        58\n",
            "           3       0.43      0.28      0.34        57\n",
            "           4       0.67      0.11      0.20        70\n",
            "           5       0.55      0.35      0.43        65\n",
            "           6       0.22      0.30      0.25        56\n",
            "           7       0.45      0.28      0.35        64\n",
            "           8       0.11      0.43      0.17        49\n",
            "           9       0.50      0.23      0.31        53\n",
            "          10       0.48      0.18      0.26        61\n",
            "          11       0.52      0.57      0.54        54\n",
            "          12       0.38      0.30      0.33        61\n",
            "          13       0.84      0.72      0.77        64\n",
            "\n",
            "    accuracy                           0.35       840\n",
            "   macro avg       0.43      0.35      0.35       840\n",
            "weighted avg       0.44      0.35      0.35       840\n",
            "\n"
          ],
          "name": "stdout"
        }
      ]
    },
    {
      "cell_type": "code",
      "metadata": {
        "colab": {
          "base_uri": "https://localhost:8080/",
          "height": 606
        },
        "id": "pkEQuKT3CH6t",
        "outputId": "bab7a138-235d-40ab-8817-123f8a59cd2a"
      },
      "source": [
        "try_new_normal = try_new.astype('float') / try_new.sum(axis=1)[:, numpy.newaxis]\n",
        "fig, ax = plt.subplots(figsize=(10,10))\n",
        "sns.heatmap(try_new_normal, annot=True, fmt='.2f', cbar=True,cmap=plt.cm.binary)\n",
        "plt.ylabel('Actual')\n",
        "plt.xlabel('Predicted')\n",
        "plt.show(block=False)"
      ],
      "execution_count": null,
      "outputs": [
        {
          "output_type": "display_data",
          "data": {
            "image/png": "[encoded data removed]",
            "text/plain": [
              "<Figure size 720x720 with 2 Axes>"
            ]
          },
          "metadata": {
            "tags": [],
            "needs_background": "light"
          }
        }
      ]
    },
    {
      "cell_type": "code",
      "metadata": {
        "id": "Ga37lO9X8fZU",
        "colab": {
          "base_uri": "https://localhost:8080/",
          "height": 573
        },
        "outputId": "f703fb96-fd30-4301-c028-2746e31d717d"
      },
      "source": [
        "# Accuracy Plot\n",
        "plt.plot(history.history['accuracy'])\n",
        "plt.plot(history.history['val_accuracy'])\n",
        "plt.title('model accuracy')\n",
        "plt.ylabel('accuracy')\n",
        "plt.xlabel('epoch')\n",
        "plt.legend(['train', 'test'], loc='lower right')\n",
        "plt.show()\n",
        "# Loss Plot\n",
        "plt.plot(history.history['loss'])\n",
        "plt.plot(history.history['val_loss'])\n",
        "plt.title('model loss')\n",
        "plt.ylabel('loss')\n",
        "plt.xlabel('epoch')\n",
        "plt.legend(['train', 'test'], loc='upper right')\n",
        "plt.show()"
      ],
      "execution_count": null,
      "outputs": [
        {
          "output_type": "display_data",
          "data": {
            "image/png": "[encoded data removed]",
            "text/plain": [
              "<Figure size 432x288 with 1 Axes>"
            ]
          },
          "metadata": {
            "tags": [],
            "needs_background": "light"
          }
        },
        {
          "output_type": "display_data",
          "data": {
            "image/png": "[encoded data removed]",
            "text/plain": [
              "<Figure size 432x288 with 1 Axes>"
            ]
          },
          "metadata": {
            "tags": [],
            "needs_background": "light"
          }
        }
      ]
    },
    {
      "cell_type": "code",
      "metadata": {
        "id": "Ud2fXeYy8mUt",
        "colab": {
          "base_uri": "https://localhost:8080/"
        },
        "outputId": "c8ea6152-5d83-4ef4-cf67-635a742e97bb"
      },
      "source": [
        "_, train_accuracy = model.evaluate(x2_train, y_train_dhg)\n",
        "_, test_accuracy = model.evaluate(x1_test, y_test_shrec)"
      ],
      "execution_count": null,
      "outputs": [
        {
          "output_type": "stream",
          "text": [
            "62/62 [==============================] - 10s 43ms/step - loss: 0.0415 - accuracy: 0.9878\n",
            "27/27 [==============================] - 1s 44ms/step - loss: 12.2680 - accuracy: 0.3488\n"
          ],
          "name": "stdout"
        }
      ]
    },
    {
      "cell_type": "code",
      "metadata": {
        "id": "33XaQbhT8nTp",
        "colab": {
          "base_uri": "https://localhost:8080/"
        },
        "outputId": "f9364515-cd00-4522-f125-7ebb0b7ae763"
      },
      "source": [
        "print('Accuracy on train set: {:.2f}%'.format(100 * train_accuracy))\n",
        "print('Accuracy on test set: {:.2f}%'.format(100 * test_accuracy))"
      ],
      "execution_count": null,
      "outputs": [
        {
          "output_type": "stream",
          "text": [
            "Accuracy on train set: 98.62%\n",
            "Accuracy on test set: 34.64%\n"
          ],
          "name": "stdout"
        }
      ]
    },
    {
      "cell_type": "markdown",
      "metadata": {
        "id": "W0gz4iva_5rp"
      },
      "source": [
        "This code has been referenced from \n",
        "\n",
        "```\n",
        "@inproceedings{devineau2018deep,\n",
        "  title={Deep learning for hand gesture recognition on skeletal data},\n",
        "  author={Devineau, Guillaume and Moutarde, Fabien and Xi, Wang and Yang, Jie},\n",
        "  booktitle={2018 13th IEEE International Conference on Automatic Face \\& Gesture Recognition (FG 2018)},\n",
        "  pages={106--113},\n",
        "  year={2018},\n",
        "  organization={IEEE}\n",
        "}\n",
        "```\n"
      ]
    }
  ]
}