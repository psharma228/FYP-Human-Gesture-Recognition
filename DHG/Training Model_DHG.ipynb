{
  "nbformat": 4,
  "nbformat_minor": 0,
  "metadata": {
    "colab": {
      "name": "FINAL DHG TRAIN.ipynb",
      "provenance": [],
      "collapsed_sections": []
    },
    "kernelspec": {
      "name": "python3",
      "display_name": "Python 3"
    },
    "accelerator": "GPU"
  },
  "cells": [
    {
      "cell_type": "markdown",
      "metadata": {
        "id": "Od1aLmFm3Dg6"
      },
      "source": [
        "Training Model on DHG dataset"
      ]
    },
    {
      "cell_type": "markdown",
      "metadata": {
        "id": "l7s-mZ8o_O49"
      },
      "source": [
        "### 1. Imports"
      ]
    },
    {
      "cell_type": "code",
      "metadata": {
        "id": "DihykQPB_vxX",
        "colab": {
          "base_uri": "https://localhost:8080/"
        },
        "outputId": "2aa824a1-d62b-4f05-f78d-e24275b693df"
      },
      "source": [
        "%tensorflow_version 2"
      ],
      "execution_count": null,
      "outputs": [
        {
          "output_type": "stream",
          "text": [
            "`%tensorflow_version` only switches the major version: 1.x or 2.x.\n",
            "You set: `2`. This will be interpreted as: `2.x`.\n",
            "\n",
            "\n",
            "TensorFlow 2.x selected.\n"
          ],
          "name": "stdout"
        }
      ]
    },
    {
      "cell_type": "code",
      "metadata": {
        "id": "A3q4CtFc8HoI"
      },
      "source": [
        "force_use_cpu = False\n",
        "\n",
        "if force_use_cpu:\n",
        "    import os\n",
        "    os.environ[\"CUDA_DEVICE_ORDER\"] = \"PCI_BUS_ID\"  \n",
        "    os.environ[\"CUDA_VISIBLE_DEVICES\"] = \"\"\n",
        "    \n",
        "    from tensorflow.keras import backend as K\n",
        "    print('There should not be a GPU in the following list:', K.tensorflow_backend._get_available_gpus())"
      ],
      "execution_count": null,
      "outputs": []
    },
    {
      "cell_type": "code",
      "metadata": {
        "id": "1Tvpr_Hb8KH5"
      },
      "source": [
        "import numpy \n",
        "import tensorflow\n",
        "import tensorflow.keras as keras\n",
        "import pickle\n",
        "import seaborn as sns\n",
        "from tensorflow.keras.utils import to_categorical\n",
        "from tensorflow.keras.utils import plot_model\n",
        "from tensorflow.keras.models import Model, Sequential\n",
        "from tensorflow.keras.layers import Input, Conv1D, AveragePooling1D, Dropout, Flatten, Lambda, Dense\n",
        "from tensorflow.keras.layers import concatenate\n",
        "from tensorflow.keras.backend import expand_dims\n",
        "from tensorflow.keras.optimizers import Adam\n",
        "from matplotlib import pyplot as plt\n",
        "from sklearn.metrics import accuracy_score\n",
        "from sklearn.metrics import confusion_matrix\n",
        "from sklearn.metrics import classification_report"
      ],
      "execution_count": null,
      "outputs": []
    },
    {
      "cell_type": "markdown",
      "metadata": {
        "id": "uzYLXmv4_RxX"
      },
      "source": [
        "### 2. Hyperparameters"
      ]
    },
    {
      "cell_type": "code",
      "metadata": {
        "id": "OUdciqbz8Mav"
      },
      "source": [
        "# model\n",
        "dropout_probability = 0.2\n",
        "duration = 100\n",
        "n_classes = 14\n",
        "n_channels = 66 "
      ],
      "execution_count": null,
      "outputs": []
    },
    {
      "cell_type": "markdown",
      "metadata": {
        "id": "trekjtXx_UKt"
      },
      "source": [
        "### 3. Create a model"
      ]
    },
    {
      "cell_type": "code",
      "metadata": {
        "id": "R8mUaURx8OBv"
      },
      "source": [
        "def create_model(n_classes, duration, n_channels, dropout_probability=0.2):\n",
        "    # Define model\n",
        "    model_input = Input(shape=(duration, n_channels))\n",
        "\n",
        "    # slice into channels\n",
        "    channel_inputs = Lambda(lambda x: tensorflow.split(x, num_or_size_splits=n_channels, axis=-1))(model_input)\n",
        "\n",
        "    features = []\n",
        "    for channel in range(n_channels):\n",
        "        channel_input = channel_inputs[channel]\n",
        "        # high branch\n",
        "        high = Conv1D(filters=8, kernel_size=7, padding='same', activation='relu', input_shape=(100, 1))(channel_input)\n",
        "        high = AveragePooling1D(pool_size=2)(high)\n",
        "        high = Conv1D(filters=4, kernel_size=7, padding='same', activation='relu')(high)\n",
        "        high = AveragePooling1D(pool_size=2)(high)\n",
        "        high = Conv1D(filters=4, kernel_size=7, padding='same', activation='relu')(high)\n",
        "        high = Dropout(dropout_probability)(high)\n",
        "        high = AveragePooling1D(pool_size=2)(high)\n",
        "        # low branch\n",
        "        low = Conv1D(filters=8, kernel_size=3, padding='same', activation='relu', input_shape=(100, 1))(channel_input)\n",
        "        low = AveragePooling1D(pool_size=2)(low)\n",
        "        low = Conv1D(filters=4, kernel_size=3, padding='same', activation='relu')(low)\n",
        "        low = AveragePooling1D(pool_size=2)(low)\n",
        "        low = Conv1D(filters=4, kernel_size=3, padding='same', activation='relu')(low)\n",
        "        low = Dropout(dropout_probability)(low)\n",
        "        low = AveragePooling1D(pool_size=2)(low)\n",
        "        # pooling branch\n",
        "        ap_residual = AveragePooling1D(pool_size=2, input_shape=(100, 1))(channel_input)\n",
        "        ap_residual = AveragePooling1D(pool_size=2)(ap_residual)\n",
        "        ap_residual = AveragePooling1D(pool_size=2)(ap_residual)\n",
        "        # channel output\n",
        "        channel_output = concatenate([high, low, ap_residual])\n",
        "        features.append(channel_output)\n",
        "\n",
        "    features = concatenate(features)\n",
        "    features = Flatten()(features)\n",
        "    features = Dense(units=1936, activation='relu')(features)\n",
        "\n",
        "    model_output = Dense(units=n_classes, activation='softmax')(features)\n",
        "\n",
        "    model = Model(inputs=[model_input], outputs=[model_output])\n",
        "    return model"
      ],
      "execution_count": null,
      "outputs": []
    },
    {
      "cell_type": "code",
      "metadata": {
        "id": "bDqzH-Xi5k_P"
      },
      "source": [
        "model = create_model(n_classes=n_classes, duration=duration, n_channels=n_channels, dropout_probability=dropout_probability)"
      ],
      "execution_count": null,
      "outputs": []
    },
    {
      "cell_type": "markdown",
      "metadata": {
        "id": "Xa-2zhyZ_a4s"
      },
      "source": [
        "### 4. Load data"
      ]
    },
    {
      "cell_type": "code",
      "metadata": {
        "id": "Q7Y63b9Z52HQ",
        "colab": {
          "base_uri": "https://localhost:8080/"
        },
        "outputId": "0bff9b1a-0a88-4096-9db3-09623aea54f0"
      },
      "source": [
        "\n",
        "use_dhg_dataset = True\n",
        "\n",
        "if use_dhg_dataset:\n",
        "\n",
        "    try:\n",
        "        # Connect Google Colab instance to Google Drive\n",
        "        from google.colab import drive\n",
        "        drive.mount('/gdrive',force_remount=True)\n",
        "        !cp /gdrive/My\\ Drive/dhg_data.pckl dhg_data.pckl\n",
        "    except:\n",
        "        print(\"You're not in a Google Colab!\")\n",
        "\n",
        "    def load_data(filepath='./dhg_data.pckl'):\n",
        "        \"\"\"\n",
        "        Returns hand gesture sequences (X) and their associated labels (Y).\n",
        "    \n",
        "        \"\"\"\n",
        "        file = open(filepath, 'rb')\n",
        "        data = pickle.load(file, encoding='latin1') \n",
        "        file.close()\n",
        "        return data['x_train'], data['x_test'], data['y_train_14'], data['y_train_28'], data['y_test_14'], data['y_test_28']\n",
        "\n",
        "    x_train, x_test, y_train_14, y_train_28, y_test_14, y_test_28 = load_data('dhg_data.pckl')\n",
        "    y_train_14, y_test_14 = numpy.array(y_train_14), numpy.array(y_test_14)\n",
        "    y_train_28, y_test_28 = numpy.array(y_train_28), numpy.array(y_test_28)\n",
        "    if n_classes == 14:\n",
        "        y_train = y_train_14\n",
        "        y_test = y_test_14\n",
        "    elif n_classes == 28:\n",
        "        y_train = y_train_28\n",
        "        y_test = y_test_28\n"
      ],
      "execution_count": null,
      "outputs": [
        {
          "output_type": "stream",
          "text": [
            "Mounted at /gdrive\n"
          ],
          "name": "stdout"
        }
      ]
    },
    {
      "cell_type": "code",
      "metadata": {
        "id": "2p3CP1x68aU4"
      },
      "source": [
        "# Cross checking the data\n",
        "if y_train.min() > 0:\n",
        "  y_train = y_train - 1\n",
        "if y_test.min() > 0:\n",
        "  y_test = y_test - 1\n",
        "\n",
        "# Transform the labels to one-hot encoding for the cross-entropy loss\n",
        "y_train = to_categorical(y_train, num_classes=n_classes)\n",
        "y_test = to_categorical(y_test, num_classes=n_classes)"
      ],
      "execution_count": null,
      "outputs": []
    },
    {
      "cell_type": "markdown",
      "metadata": {
        "id": "wpGorW-V_d1b"
      },
      "source": [
        "### 5. Training the model"
      ]
    },
    {
      "cell_type": "code",
      "metadata": {
        "id": "KlTlhEtK8cAJ"
      },
      "source": [
        "# Optimizer's Learning Rate\n",
        "learning_rate = 0.001\n",
        "optimizer = Adam(lr=learning_rate, beta_1=0.9, beta_2=0.999, epsilon=1e-8)\n",
        "loss = 'categorical_crossentropy'\n",
        "metrics = ['accuracy']\n",
        "model.compile(optimizer=optimizer, loss=loss, metrics=metrics)"
      ],
      "execution_count": null,
      "outputs": []
    },
    {
      "cell_type": "code",
      "metadata": {
        "id": "a8_oKg3u8eEb",
        "colab": {
          "base_uri": "https://localhost:8080/"
        },
        "outputId": "9f231e8f-91f1-492b-b06d-c8313f391daf"
      },
      "source": [
        "# Training the model\n",
        "history = model.fit(x_train, y_train, validation_data=(x_test, y_test), epochs=50, batch_size=28)\n"
      ],
      "execution_count": null,
      "outputs": [
        {
          "output_type": "stream",
          "text": [
            "Epoch 1/50\n",
            "70/70 [==============================] - 82s 229ms/step - loss: 3.1454 - accuracy: 0.0833 - val_loss: 2.5524 - val_accuracy: 0.1762\n",
            "Epoch 2/50\n",
            "70/70 [==============================] - 9s 124ms/step - loss: 2.3926 - accuracy: 0.2295 - val_loss: 1.9255 - val_accuracy: 0.3762\n",
            "Epoch 3/50\n",
            "70/70 [==============================] - 9s 124ms/step - loss: 1.7869 - accuracy: 0.4165 - val_loss: 1.5646 - val_accuracy: 0.4595\n",
            "Epoch 4/50\n",
            "70/70 [==============================] - 9s 123ms/step - loss: 1.5113 - accuracy: 0.5028 - val_loss: 1.2649 - val_accuracy: 0.6107\n",
            "Epoch 5/50\n",
            "70/70 [==============================] - 9s 123ms/step - loss: 1.3009 - accuracy: 0.5653 - val_loss: 1.1950 - val_accuracy: 0.5917\n",
            "Epoch 6/50\n",
            "70/70 [==============================] - 9s 122ms/step - loss: 1.1165 - accuracy: 0.6257 - val_loss: 1.1557 - val_accuracy: 0.5964\n",
            "Epoch 7/50\n",
            "70/70 [==============================] - 9s 123ms/step - loss: 1.0337 - accuracy: 0.6633 - val_loss: 1.0378 - val_accuracy: 0.6345\n",
            "Epoch 8/50\n",
            "70/70 [==============================] - 9s 124ms/step - loss: 0.9493 - accuracy: 0.7033 - val_loss: 0.9610 - val_accuracy: 0.6905\n",
            "Epoch 9/50\n",
            "70/70 [==============================] - 8s 122ms/step - loss: 0.8558 - accuracy: 0.7139 - val_loss: 0.8949 - val_accuracy: 0.7250\n",
            "Epoch 10/50\n",
            "70/70 [==============================] - 9s 124ms/step - loss: 0.8174 - accuracy: 0.7370 - val_loss: 0.7736 - val_accuracy: 0.7512\n",
            "Epoch 11/50\n",
            "70/70 [==============================] - 9s 126ms/step - loss: 0.6703 - accuracy: 0.7681 - val_loss: 0.7811 - val_accuracy: 0.7440\n",
            "Epoch 12/50\n",
            "70/70 [==============================] - 9s 125ms/step - loss: 0.6198 - accuracy: 0.7869 - val_loss: 0.8582 - val_accuracy: 0.7274\n",
            "Epoch 13/50\n",
            "70/70 [==============================] - 9s 124ms/step - loss: 0.6275 - accuracy: 0.7983 - val_loss: 0.7276 - val_accuracy: 0.7714\n",
            "Epoch 14/50\n",
            "70/70 [==============================] - 9s 124ms/step - loss: 0.5932 - accuracy: 0.8007 - val_loss: 0.7113 - val_accuracy: 0.7750\n",
            "Epoch 15/50\n",
            "70/70 [==============================] - 9s 123ms/step - loss: 0.4939 - accuracy: 0.8226 - val_loss: 0.6663 - val_accuracy: 0.7857\n",
            "Epoch 16/50\n",
            "70/70 [==============================] - 9s 123ms/step - loss: 0.4482 - accuracy: 0.8611 - val_loss: 0.6453 - val_accuracy: 0.8107\n",
            "Epoch 17/50\n",
            "70/70 [==============================] - 9s 123ms/step - loss: 0.4951 - accuracy: 0.8349 - val_loss: 0.6490 - val_accuracy: 0.7976\n",
            "Epoch 18/50\n",
            "70/70 [==============================] - 9s 124ms/step - loss: 0.4551 - accuracy: 0.8486 - val_loss: 0.5863 - val_accuracy: 0.8321\n",
            "Epoch 19/50\n",
            "70/70 [==============================] - 9s 122ms/step - loss: 0.3671 - accuracy: 0.8738 - val_loss: 0.6129 - val_accuracy: 0.8321\n",
            "Epoch 20/50\n",
            "70/70 [==============================] - 9s 124ms/step - loss: 0.3544 - accuracy: 0.8833 - val_loss: 0.6283 - val_accuracy: 0.8238\n",
            "Epoch 21/50\n",
            "70/70 [==============================] - 9s 124ms/step - loss: 0.3789 - accuracy: 0.8717 - val_loss: 0.5423 - val_accuracy: 0.8452\n",
            "Epoch 22/50\n",
            "70/70 [==============================] - 9s 123ms/step - loss: 0.3879 - accuracy: 0.8713 - val_loss: 0.6015 - val_accuracy: 0.8226\n",
            "Epoch 23/50\n",
            "70/70 [==============================] - 9s 122ms/step - loss: 0.2891 - accuracy: 0.9043 - val_loss: 0.5548 - val_accuracy: 0.8405\n",
            "Epoch 24/50\n",
            "70/70 [==============================] - 9s 123ms/step - loss: 0.3197 - accuracy: 0.8916 - val_loss: 0.5859 - val_accuracy: 0.8417\n",
            "Epoch 25/50\n",
            "70/70 [==============================] - 9s 123ms/step - loss: 0.2945 - accuracy: 0.9063 - val_loss: 0.5590 - val_accuracy: 0.8488\n",
            "Epoch 26/50\n",
            "70/70 [==============================] - 9s 128ms/step - loss: 0.2745 - accuracy: 0.9048 - val_loss: 0.5749 - val_accuracy: 0.8464\n",
            "Epoch 27/50\n",
            "70/70 [==============================] - 9s 124ms/step - loss: 0.2674 - accuracy: 0.9081 - val_loss: 0.5943 - val_accuracy: 0.8405\n",
            "Epoch 28/50\n",
            "70/70 [==============================] - 9s 124ms/step - loss: 0.2450 - accuracy: 0.9137 - val_loss: 0.6025 - val_accuracy: 0.8429\n",
            "Epoch 29/50\n",
            "70/70 [==============================] - 9s 125ms/step - loss: 0.1828 - accuracy: 0.9513 - val_loss: 0.5736 - val_accuracy: 0.8476\n",
            "Epoch 30/50\n",
            "70/70 [==============================] - 9s 124ms/step - loss: 0.1888 - accuracy: 0.9341 - val_loss: 0.5798 - val_accuracy: 0.8440\n",
            "Epoch 31/50\n",
            "70/70 [==============================] - 9s 124ms/step - loss: 0.1962 - accuracy: 0.9420 - val_loss: 0.6193 - val_accuracy: 0.8417\n",
            "Epoch 32/50\n",
            "70/70 [==============================] - 9s 124ms/step - loss: 0.2033 - accuracy: 0.9350 - val_loss: 0.6062 - val_accuracy: 0.8476\n",
            "Epoch 33/50\n",
            "70/70 [==============================] - 9s 125ms/step - loss: 0.1726 - accuracy: 0.9491 - val_loss: 0.6172 - val_accuracy: 0.8440\n",
            "Epoch 34/50\n",
            "70/70 [==============================] - 9s 124ms/step - loss: 0.1759 - accuracy: 0.9377 - val_loss: 0.6198 - val_accuracy: 0.8500\n",
            "Epoch 35/50\n",
            "70/70 [==============================] - 9s 124ms/step - loss: 0.1585 - accuracy: 0.9507 - val_loss: 0.5629 - val_accuracy: 0.8631\n",
            "Epoch 36/50\n",
            "70/70 [==============================] - 9s 124ms/step - loss: 0.1298 - accuracy: 0.9668 - val_loss: 0.7091 - val_accuracy: 0.8310\n",
            "Epoch 37/50\n",
            "70/70 [==============================] - 9s 123ms/step - loss: 0.1800 - accuracy: 0.9464 - val_loss: 0.6198 - val_accuracy: 0.8369\n",
            "Epoch 38/50\n",
            "70/70 [==============================] - 9s 123ms/step - loss: 0.1406 - accuracy: 0.9541 - val_loss: 0.6783 - val_accuracy: 0.8333\n",
            "Epoch 39/50\n",
            "70/70 [==============================] - 9s 124ms/step - loss: 0.1193 - accuracy: 0.9570 - val_loss: 0.6315 - val_accuracy: 0.8595\n",
            "Epoch 40/50\n",
            "70/70 [==============================] - 9s 124ms/step - loss: 0.1381 - accuracy: 0.9568 - val_loss: 0.7182 - val_accuracy: 0.8238\n",
            "Epoch 41/50\n",
            "70/70 [==============================] - 9s 127ms/step - loss: 0.1343 - accuracy: 0.9554 - val_loss: 0.7019 - val_accuracy: 0.8417\n",
            "Epoch 42/50\n",
            "70/70 [==============================] - 9s 126ms/step - loss: 0.1202 - accuracy: 0.9612 - val_loss: 0.6079 - val_accuracy: 0.8631\n",
            "Epoch 43/50\n",
            "70/70 [==============================] - 9s 124ms/step - loss: 0.0969 - accuracy: 0.9664 - val_loss: 0.5913 - val_accuracy: 0.8762\n",
            "Epoch 44/50\n",
            "70/70 [==============================] - 9s 124ms/step - loss: 0.1144 - accuracy: 0.9614 - val_loss: 0.6458 - val_accuracy: 0.8607\n",
            "Epoch 45/50\n",
            "70/70 [==============================] - 9s 124ms/step - loss: 0.0802 - accuracy: 0.9741 - val_loss: 0.6147 - val_accuracy: 0.8810\n",
            "Epoch 46/50\n",
            "70/70 [==============================] - 9s 123ms/step - loss: 0.0770 - accuracy: 0.9760 - val_loss: 0.6349 - val_accuracy: 0.8583\n",
            "Epoch 47/50\n",
            "70/70 [==============================] - 9s 124ms/step - loss: 0.1428 - accuracy: 0.9523 - val_loss: 0.6612 - val_accuracy: 0.8429\n",
            "Epoch 48/50\n",
            "70/70 [==============================] - 9s 125ms/step - loss: 0.0857 - accuracy: 0.9750 - val_loss: 0.6895 - val_accuracy: 0.8512\n",
            "Epoch 49/50\n",
            "70/70 [==============================] - 9s 125ms/step - loss: 0.0886 - accuracy: 0.9666 - val_loss: 0.6484 - val_accuracy: 0.8750\n",
            "Epoch 50/50\n",
            "70/70 [==============================] - 9s 124ms/step - loss: 0.0543 - accuracy: 0.9867 - val_loss: 0.6738 - val_accuracy: 0.8619\n"
          ],
          "name": "stdout"
        }
      ]
    },
    {
      "cell_type": "code",
      "metadata": {
        "colab": {
          "base_uri": "https://localhost:8080/"
        },
        "id": "V3WDywa_LHg8",
        "outputId": "42204c5f-b541-48bf-94de-6441d1d54b42"
      },
      "source": [
        "new_var= model.predict(x_test)\n",
        "try_new=confusion_matrix(y_test.argmax(axis=1),new_var.argmax(axis=1))\n",
        "matrix_new = classification_report(y_test.argmax(axis=1),new_var.argmax(axis=1))\n",
        "print(matrix_new)"
      ],
      "execution_count": null,
      "outputs": [
        {
          "output_type": "stream",
          "text": [
            "              precision    recall  f1-score   support\n",
            "\n",
            "           0       0.76      0.58      0.65        64\n",
            "           1       0.86      0.88      0.87        69\n",
            "           2       0.93      0.84      0.88        62\n",
            "           3       0.63      0.91      0.74        56\n",
            "           4       0.85      0.83      0.84        53\n",
            "           5       0.92      0.93      0.93        60\n",
            "           6       0.92      0.81      0.86        54\n",
            "           7       0.84      0.97      0.90        68\n",
            "           8       0.85      0.94      0.89        53\n",
            "           9       0.92      0.71      0.80        69\n",
            "          10       0.97      0.93      0.95        60\n",
            "          11       1.00      0.93      0.96        57\n",
            "          12       0.90      0.93      0.92        60\n",
            "          13       0.84      0.89      0.87        55\n",
            "\n",
            "    accuracy                           0.86       840\n",
            "   macro avg       0.87      0.86      0.86       840\n",
            "weighted avg       0.87      0.86      0.86       840\n",
            "\n"
          ],
          "name": "stdout"
        }
      ]
    },
    {
      "cell_type": "code",
      "metadata": {
        "colab": {
          "base_uri": "https://localhost:8080/",
          "height": 606
        },
        "id": "E3xRMTAELSVs",
        "outputId": "be9fc0fb-9e66-4cff-8fd2-3749a8ca80ec"
      },
      "source": [
        "try_new_normal = try_new.astype('float') / try_new.sum(axis=1)[:, numpy.newaxis]\n",
        "fig, ax = plt.subplots(figsize=(10,10))\n",
        "sns.heatmap(try_new_normal, annot=True, fmt='.2f', cbar=True,cmap=plt.cm.binary)\n",
        "plt.ylabel('Actual')\n",
        "plt.xlabel('Predicted')\n",
        "plt.show(block=False)"
      ],
      "execution_count": null,
      "outputs": [
        {
          "output_type": "display_data",
          "data": {
            "image/png": "[encoded data removed]",
            "text/plain": [
              "<Figure size 720x720 with 2 Axes>"
            ]
          },
          "metadata": {
            "tags": [],
            "needs_background": "light"
          }
        }
      ]
    },
    {
      "cell_type": "code",
      "metadata": {
        "id": "Ga37lO9X8fZU",
        "colab": {
          "base_uri": "https://localhost:8080/",
          "height": 573
        },
        "outputId": "6e9e5857-d0ff-4e27-c82a-5dae8b26f83f"
      },
      "source": [
        "# Accuracy Plot\n",
        "plt.plot(history.history['accuracy'])\n",
        "plt.plot(history.history['val_accuracy'])\n",
        "plt.title('model accuracy')\n",
        "plt.ylabel('accuracy')\n",
        "plt.xlabel('epoch')\n",
        "plt.legend(['train', 'test'], loc='lower right')\n",
        "plt.show()\n",
        "# Loss Plot\n",
        "plt.plot(history.history['loss'])\n",
        "plt.plot(history.history['val_loss'])\n",
        "plt.title('model loss')\n",
        "plt.ylabel('loss')\n",
        "plt.xlabel('epoch')\n",
        "plt.legend(['train', 'test'], loc='upper right')\n",
        "plt.show()"
      ],
      "execution_count": null,
      "outputs": [
        {
          "output_type": "display_data",
          "data": {
            "image/png": "[encoded data removed]",
            "text/plain": [
              "<Figure size 432x288 with 1 Axes>"
            ]
          },
          "metadata": {
            "tags": [],
            "needs_background": "light"
          }
        },
        {
          "output_type": "display_data",
          "data": {
            "image/png": "[encoded data removed]",
            "text/plain": [
              "<Figure size 432x288 with 1 Axes>"
            ]
          },
          "metadata": {
            "tags": [],
            "needs_background": "light"
          }
        }
      ]
    },
    {
      "cell_type": "code",
      "metadata": {
        "id": "Ud2fXeYy8mUt",
        "colab": {
          "base_uri": "https://localhost:8080/"
        },
        "outputId": "0708f8f0-6cce-471d-9619-9db977fe2fb4"
      },
      "source": [
        "_, train_accuracy = model.evaluate(x_train, y_train)\n",
        "_, test_accuracy = model.evaluate(x_test, y_test)"
      ],
      "execution_count": null,
      "outputs": [
        {
          "output_type": "stream",
          "text": [
            "62/62 [==============================] - 10s 43ms/step - loss: 0.0320 - accuracy: 0.9903\n",
            "27/27 [==============================] - 1s 42ms/step - loss: 0.7138 - accuracy: 0.8560\n"
          ],
          "name": "stdout"
        }
      ]
    },
    {
      "cell_type": "code",
      "metadata": {
        "id": "33XaQbhT8nTp",
        "colab": {
          "base_uri": "https://localhost:8080/"
        },
        "outputId": "12b16364-5659-4e61-cf82-6d5c114f33af"
      },
      "source": [
        "print('Accuracy on train set: {:.2f}%'.format(100 * train_accuracy))\n",
        "print('Accuracy on test set: {:.2f}%'.format(100 * test_accuracy))"
      ],
      "execution_count": null,
      "outputs": [
        {
          "output_type": "stream",
          "text": [
            "Accuracy on train set: 99.03%\n",
            "Accuracy on test set: 85.60%\n"
          ],
          "name": "stdout"
        }
      ]
    },
    {
      "cell_type": "markdown",
      "metadata": {
        "id": "DsloIWyMA6EW"
      },
      "source": [
        "This code has been referenced from \n",
        "\n",
        "```\n",
        "@inproceedings{devineau2018deep,\n",
        "  title={Deep learning for hand gesture recognition on skeletal data},\n",
        "  author={Devineau, Guillaume and Moutarde, Fabien and Xi, Wang and Yang, Jie},\n",
        "  booktitle={2018 13th IEEE International Conference on Automatic Face \\& Gesture Recognition (FG 2018)},\n",
        "  pages={106--113},\n",
        "  year={2018},\n",
        "  organization={IEEE}\n",
        "}\n",
        "```\n"
      ]
    }
  ]
}