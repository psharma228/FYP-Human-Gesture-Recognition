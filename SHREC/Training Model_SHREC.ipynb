{
  "nbformat": 4,
  "nbformat_minor": 0,
  "metadata": {
    "colab": {
      "name": "FINAL SHREC TRAIN.ipynb",
      "provenance": [],
      "collapsed_sections": []
    },
    "kernelspec": {
      "name": "python3",
      "display_name": "Python 3"
    },
    "accelerator": "GPU"
  },
  "cells": [
    {
      "cell_type": "markdown",
      "metadata": {
        "id": "hoZM--qv6bnJ"
      },
      "source": [
        "Training Model on SHREC dataset"
      ]
    },
    {
      "cell_type": "markdown",
      "metadata": {
        "id": "l7s-mZ8o_O49"
      },
      "source": [
        "### 1. Imports"
      ]
    },
    {
      "cell_type": "code",
      "metadata": {
        "id": "DihykQPB_vxX",
        "colab": {
          "base_uri": "https://localhost:8080/"
        },
        "outputId": "b3c90b93-9f95-46a1-9abe-c4d322160f83"
      },
      "source": [
        "%tensorflow_version 2"
      ],
      "execution_count": null,
      "outputs": [
        {
          "output_type": "stream",
          "text": [
            "`%tensorflow_version` only switches the major version: 1.x or 2.x.\n",
            "You set: `2`. This will be interpreted as: `2.x`.\n",
            "\n",
            "\n",
            "TensorFlow 2.x selected.\n"
          ],
          "name": "stdout"
        }
      ]
    },
    {
      "cell_type": "code",
      "metadata": {
        "id": "A3q4CtFc8HoI"
      },
      "source": [
        "force_use_cpu = False\n",
        "\n",
        "if force_use_cpu:\n",
        "    import os\n",
        "    os.environ[\"CUDA_DEVICE_ORDER\"] = \"PCI_BUS_ID\"\n",
        "    os.environ[\"CUDA_VISIBLE_DEVICES\"] = \"\"\n",
        "    \n",
        "    from tensorflow.keras import backend as K\n",
        "    print('There should not be a GPU in the following list:', K.tensorflow_backend._get_available_gpus())"
      ],
      "execution_count": null,
      "outputs": []
    },
    {
      "cell_type": "code",
      "metadata": {
        "id": "1Tvpr_Hb8KH5"
      },
      "source": [
        "import numpy\n",
        "import tensorflow\n",
        "import tensorflow.keras as keras\n",
        "import pickle\n",
        "import seaborn as sns\n",
        "from tensorflow.keras.utils import to_categorical\n",
        "from tensorflow.keras.utils import plot_model\n",
        "from tensorflow.keras.models import Model, Sequential\n",
        "from tensorflow.keras.layers import Input, Conv1D, AveragePooling1D, Dropout, Flatten, Lambda, Dense\n",
        "from tensorflow.keras.layers import concatenate\n",
        "from tensorflow.keras.backend import expand_dims\n",
        "from tensorflow.keras.optimizers import Adam\n",
        "from matplotlib import pyplot as plt\n",
        "from sklearn.metrics import accuracy_score\n",
        "from sklearn.metrics import confusion_matrix\n",
        "from sklearn.metrics import classification_report"
      ],
      "execution_count": null,
      "outputs": []
    },
    {
      "cell_type": "markdown",
      "metadata": {
        "id": "uzYLXmv4_RxX"
      },
      "source": [
        "### 2. Hyperparameters"
      ]
    },
    {
      "cell_type": "code",
      "metadata": {
        "id": "OUdciqbz8Mav"
      },
      "source": [
        "# model\n",
        "dropout_probability = 0.2\n",
        "duration = 100\n",
        "n_classes = 14\n",
        "n_channels = 66  "
      ],
      "execution_count": null,
      "outputs": []
    },
    {
      "cell_type": "markdown",
      "metadata": {
        "id": "trekjtXx_UKt"
      },
      "source": [
        "### 3. Create a model"
      ]
    },
    {
      "cell_type": "code",
      "metadata": {
        "id": "R8mUaURx8OBv"
      },
      "source": [
        "def create_model(n_classes, duration, n_channels, dropout_probability=0.2):\n",
        "    # Define model\n",
        "    model_input = Input(shape=(duration, n_channels))\n",
        "\n",
        "    # slice into channels\n",
        "    channel_inputs = Lambda(lambda x: tensorflow.split(x, num_or_size_splits=n_channels, axis=-1))(model_input)\n",
        "\n",
        "    features = []\n",
        "    for channel in range(n_channels):\n",
        "        channel_input = channel_inputs[channel]\n",
        "        # high branch\n",
        "        high = Conv1D(filters=8, kernel_size=7, padding='same', activation='relu', input_shape=(100, 1))(channel_input)\n",
        "        high = AveragePooling1D(pool_size=2)(high)\n",
        "        high = Conv1D(filters=4, kernel_size=7, padding='same', activation='relu')(high)\n",
        "        high = AveragePooling1D(pool_size=2)(high)\n",
        "        high = Conv1D(filters=4, kernel_size=7, padding='same', activation='relu')(high)\n",
        "        high = Dropout(dropout_probability)(high)\n",
        "        high = AveragePooling1D(pool_size=2)(high)\n",
        "        # low branch\n",
        "        low = Conv1D(filters=8, kernel_size=3, padding='same', activation='relu', input_shape=(100, 1))(channel_input)\n",
        "        low = AveragePooling1D(pool_size=2)(low)\n",
        "        low = Conv1D(filters=4, kernel_size=3, padding='same', activation='relu')(low)\n",
        "        low = AveragePooling1D(pool_size=2)(low)\n",
        "        low = Conv1D(filters=4, kernel_size=3, padding='same', activation='relu')(low)\n",
        "        low = Dropout(dropout_probability)(low)\n",
        "        low = AveragePooling1D(pool_size=2)(low)\n",
        "        # pooling branch\n",
        "        ap_residual = AveragePooling1D(pool_size=2, input_shape=(100, 1))(channel_input)\n",
        "        ap_residual = AveragePooling1D(pool_size=2)(ap_residual)\n",
        "        ap_residual = AveragePooling1D(pool_size=2)(ap_residual)\n",
        "        # channel output\n",
        "        channel_output = concatenate([high, low, ap_residual])\n",
        "        features.append(channel_output)\n",
        "\n",
        "    features = concatenate(features)\n",
        "    features = Flatten()(features)\n",
        "    features = Dense(units=1936, activation='relu')(features)\n",
        "\n",
        "    model_output = Dense(units=n_classes, activation='softmax')(features)\n",
        "\n",
        "    model = Model(inputs=[model_input], outputs=[model_output])\n",
        "    return model"
      ],
      "execution_count": null,
      "outputs": []
    },
    {
      "cell_type": "code",
      "metadata": {
        "id": "bDqzH-Xi5k_P"
      },
      "source": [
        "model = create_model(n_classes=n_classes, duration=duration, n_channels=n_channels, dropout_probability=dropout_probability)"
      ],
      "execution_count": null,
      "outputs": []
    },
    {
      "cell_type": "markdown",
      "metadata": {
        "id": "Xa-2zhyZ_a4s"
      },
      "source": [
        "### 4. Load data"
      ]
    },
    {
      "cell_type": "code",
      "metadata": {
        "id": "Q7Y63b9Z52HQ",
        "colab": {
          "base_uri": "https://localhost:8080/"
        },
        "outputId": "439feb79-ebea-410f-84ec-04e16b63b9eb"
      },
      "source": [
        "\n",
        "use_shrec_dataset = True\n",
        "\n",
        "if use_shrec_dataset:\n",
        "\n",
        "    try:\n",
        "        # Connect Google Colab instance to Google Drive\n",
        "        from google.colab import drive\n",
        "        drive.mount('/gdrive',force_remount=True)\n",
        "        !cp /gdrive/My\\ Drive/shrec_data.pckl shrec_data.pckl\n",
        "    except:\n",
        "        print(\"You're not in a Google Colab!\")\n",
        "\n",
        "    def load_data(filepath='./shrec_data.pckl'):\n",
        "        \"\"\"\n",
        "        Returns hand gesture sequences (X) and their associated labels (Y).\n",
        "        \"\"\"\n",
        "        file = open(filepath, 'rb')\n",
        "        data = pickle.load(file, encoding='latin1') \n",
        "        file.close()\n",
        "        return data['x_train'], data['x_test'], data['y_train_14'], data['y_train_28'], data['y_test_14'], data['y_test_28']\n",
        "\n",
        "    x_train, x_test, y_train_14, y_train_28, y_test_14, y_test_28 = load_data('shrec_data.pckl')\n",
        "    y_train_14, y_test_14 = numpy.array(y_train_14), numpy.array(y_test_14)\n",
        "    y_train_28, y_test_28 = numpy.array(y_train_28), numpy.array(y_test_28)\n",
        "    if n_classes == 14:\n",
        "        y_train = y_train_14\n",
        "        y_test = y_test_14\n",
        "    elif n_classes == 28:\n",
        "        y_train = y_train_28\n",
        "        y_test = y_test_28\n"
      ],
      "execution_count": null,
      "outputs": [
        {
          "output_type": "stream",
          "text": [
            "Mounted at /gdrive\n"
          ],
          "name": "stdout"
        }
      ]
    },
    {
      "cell_type": "code",
      "metadata": {
        "id": "2p3CP1x68aU4"
      },
      "source": [
        "# Cross checking the data\n",
        "if y_train.min() > 0:\n",
        "  y_train = y_train - 1\n",
        "if y_test.min() > 0:\n",
        "  y_test = y_test - 1\n",
        "\n",
        "# Transform the labels to one-hot encoding for the cross-entropy loss\n",
        "y_train = to_categorical(y_train, num_classes=n_classes)\n",
        "y_test = to_categorical(y_test, num_classes=n_classes)"
      ],
      "execution_count": null,
      "outputs": []
    },
    {
      "cell_type": "markdown",
      "metadata": {
        "id": "wpGorW-V_d1b"
      },
      "source": [
        "### 5. Training the model"
      ]
    },
    {
      "cell_type": "code",
      "metadata": {
        "id": "KlTlhEtK8cAJ"
      },
      "source": [
        "# Optimizer's Learning Rate\n",
        "learning_rate = 0.001\n",
        "optimizer = Adam(lr=learning_rate, beta_1=0.9, beta_2=0.999, epsilon=1e-8)\n",
        "loss = 'categorical_crossentropy'\n",
        "metrics = ['accuracy']\n",
        "model.compile(optimizer=optimizer, loss=loss, metrics=metrics)"
      ],
      "execution_count": null,
      "outputs": []
    },
    {
      "cell_type": "code",
      "metadata": {
        "id": "a8_oKg3u8eEb",
        "colab": {
          "base_uri": "https://localhost:8080/"
        },
        "outputId": "d8e7af95-18e9-4b93-ae5e-107cc39cdd00"
      },
      "source": [
        "# Training the model\n",
        "history = model.fit(x_train, y_train, validation_data=(x_test, y_test), epochs=50, batch_size=28)"
      ],
      "execution_count": null,
      "outputs": [
        {
          "output_type": "stream",
          "text": [
            "Epoch 1/50\n",
            "70/70 [==============================] - 79s 216ms/step - loss: 2.8469 - accuracy: 0.1251 - val_loss: 1.8488 - val_accuracy: 0.3988\n",
            "Epoch 2/50\n",
            "70/70 [==============================] - 8s 112ms/step - loss: 1.5920 - accuracy: 0.4787 - val_loss: 1.1477 - val_accuracy: 0.6488\n",
            "Epoch 3/50\n",
            "70/70 [==============================] - 8s 113ms/step - loss: 1.0689 - accuracy: 0.6609 - val_loss: 0.9499 - val_accuracy: 0.7202\n",
            "Epoch 4/50\n",
            "70/70 [==============================] - 8s 112ms/step - loss: 0.8356 - accuracy: 0.7326 - val_loss: 0.7826 - val_accuracy: 0.7714\n",
            "Epoch 5/50\n",
            "70/70 [==============================] - 8s 112ms/step - loss: 0.6121 - accuracy: 0.8159 - val_loss: 0.6979 - val_accuracy: 0.7845\n",
            "Epoch 6/50\n",
            "70/70 [==============================] - 8s 113ms/step - loss: 0.5202 - accuracy: 0.8400 - val_loss: 0.5134 - val_accuracy: 0.8619\n",
            "Epoch 7/50\n",
            "70/70 [==============================] - 8s 114ms/step - loss: 0.4936 - accuracy: 0.8586 - val_loss: 0.4578 - val_accuracy: 0.8536\n",
            "Epoch 8/50\n",
            "70/70 [==============================] - 8s 116ms/step - loss: 0.4149 - accuracy: 0.8708 - val_loss: 0.4770 - val_accuracy: 0.8548\n",
            "Epoch 9/50\n",
            "70/70 [==============================] - 8s 113ms/step - loss: 0.3644 - accuracy: 0.8761 - val_loss: 0.4143 - val_accuracy: 0.8595\n",
            "Epoch 10/50\n",
            "70/70 [==============================] - 8s 112ms/step - loss: 0.3042 - accuracy: 0.8997 - val_loss: 0.4809 - val_accuracy: 0.8571\n",
            "Epoch 11/50\n",
            "70/70 [==============================] - 8s 113ms/step - loss: 0.3297 - accuracy: 0.8936 - val_loss: 0.3751 - val_accuracy: 0.8929\n",
            "Epoch 12/50\n",
            "70/70 [==============================] - 8s 114ms/step - loss: 0.2625 - accuracy: 0.9138 - val_loss: 0.3702 - val_accuracy: 0.8881\n",
            "Epoch 13/50\n",
            "70/70 [==============================] - 8s 113ms/step - loss: 0.2544 - accuracy: 0.9221 - val_loss: 0.3365 - val_accuracy: 0.8976\n",
            "Epoch 14/50\n",
            "70/70 [==============================] - 8s 113ms/step - loss: 0.1996 - accuracy: 0.9465 - val_loss: 0.3103 - val_accuracy: 0.8952\n",
            "Epoch 15/50\n",
            "70/70 [==============================] - 8s 115ms/step - loss: 0.1697 - accuracy: 0.9438 - val_loss: 0.3594 - val_accuracy: 0.8952\n",
            "Epoch 16/50\n",
            "70/70 [==============================] - 8s 114ms/step - loss: 0.1845 - accuracy: 0.9427 - val_loss: 0.3711 - val_accuracy: 0.8810\n",
            "Epoch 17/50\n",
            "70/70 [==============================] - 8s 114ms/step - loss: 0.1843 - accuracy: 0.9453 - val_loss: 0.3271 - val_accuracy: 0.8988\n",
            "Epoch 18/50\n",
            "70/70 [==============================] - 8s 113ms/step - loss: 0.1570 - accuracy: 0.9487 - val_loss: 0.3264 - val_accuracy: 0.8976\n",
            "Epoch 19/50\n",
            "70/70 [==============================] - 8s 112ms/step - loss: 0.1676 - accuracy: 0.9544 - val_loss: 0.3668 - val_accuracy: 0.9024\n",
            "Epoch 20/50\n",
            "70/70 [==============================] - 8s 115ms/step - loss: 0.1691 - accuracy: 0.9419 - val_loss: 0.3332 - val_accuracy: 0.9048\n",
            "Epoch 21/50\n",
            "70/70 [==============================] - 8s 113ms/step - loss: 0.1407 - accuracy: 0.9550 - val_loss: 0.2963 - val_accuracy: 0.9202\n",
            "Epoch 22/50\n",
            "70/70 [==============================] - 8s 113ms/step - loss: 0.1083 - accuracy: 0.9691 - val_loss: 0.3632 - val_accuracy: 0.9000\n",
            "Epoch 23/50\n",
            "70/70 [==============================] - 8s 114ms/step - loss: 0.1106 - accuracy: 0.9580 - val_loss: 0.3588 - val_accuracy: 0.9000\n",
            "Epoch 24/50\n",
            "70/70 [==============================] - 8s 113ms/step - loss: 0.1131 - accuracy: 0.9651 - val_loss: 0.2991 - val_accuracy: 0.9202\n",
            "Epoch 25/50\n",
            "70/70 [==============================] - 8s 113ms/step - loss: 0.1032 - accuracy: 0.9621 - val_loss: 0.3660 - val_accuracy: 0.8976\n",
            "Epoch 26/50\n",
            "70/70 [==============================] - 8s 113ms/step - loss: 0.1211 - accuracy: 0.9665 - val_loss: 0.4674 - val_accuracy: 0.8667\n",
            "Epoch 27/50\n",
            "70/70 [==============================] - 8s 114ms/step - loss: 0.1797 - accuracy: 0.9479 - val_loss: 0.3394 - val_accuracy: 0.9107\n",
            "Epoch 28/50\n",
            "70/70 [==============================] - 8s 114ms/step - loss: 0.0918 - accuracy: 0.9715 - val_loss: 0.3611 - val_accuracy: 0.9024\n",
            "Epoch 29/50\n",
            "70/70 [==============================] - 8s 116ms/step - loss: 0.1034 - accuracy: 0.9665 - val_loss: 0.3584 - val_accuracy: 0.9024\n",
            "Epoch 30/50\n",
            "70/70 [==============================] - 8s 113ms/step - loss: 0.0669 - accuracy: 0.9812 - val_loss: 0.3475 - val_accuracy: 0.9179\n",
            "Epoch 31/50\n",
            "70/70 [==============================] - 8s 114ms/step - loss: 0.0951 - accuracy: 0.9648 - val_loss: 0.3273 - val_accuracy: 0.9107\n",
            "Epoch 32/50\n",
            "70/70 [==============================] - 8s 113ms/step - loss: 0.0560 - accuracy: 0.9829 - val_loss: 0.3633 - val_accuracy: 0.9155\n",
            "Epoch 33/50\n",
            "70/70 [==============================] - 8s 113ms/step - loss: 0.1054 - accuracy: 0.9684 - val_loss: 0.3044 - val_accuracy: 0.9214\n",
            "Epoch 34/50\n",
            "70/70 [==============================] - 8s 114ms/step - loss: 0.0783 - accuracy: 0.9747 - val_loss: 0.3353 - val_accuracy: 0.9190\n",
            "Epoch 35/50\n",
            "70/70 [==============================] - 8s 113ms/step - loss: 0.0506 - accuracy: 0.9823 - val_loss: 0.3770 - val_accuracy: 0.9071\n",
            "Epoch 36/50\n",
            "70/70 [==============================] - 8s 114ms/step - loss: 0.0653 - accuracy: 0.9740 - val_loss: 0.3881 - val_accuracy: 0.9012\n",
            "Epoch 37/50\n",
            "70/70 [==============================] - 8s 115ms/step - loss: 0.0988 - accuracy: 0.9688 - val_loss: 0.3393 - val_accuracy: 0.9107\n",
            "Epoch 38/50\n",
            "70/70 [==============================] - 8s 114ms/step - loss: 0.0360 - accuracy: 0.9930 - val_loss: 0.3783 - val_accuracy: 0.9095\n",
            "Epoch 39/50\n",
            "70/70 [==============================] - 8s 114ms/step - loss: 0.0471 - accuracy: 0.9844 - val_loss: 0.3767 - val_accuracy: 0.9202\n",
            "Epoch 40/50\n",
            "70/70 [==============================] - 8s 113ms/step - loss: 0.0372 - accuracy: 0.9920 - val_loss: 0.3820 - val_accuracy: 0.9131\n",
            "Epoch 41/50\n",
            "70/70 [==============================] - 8s 114ms/step - loss: 0.0263 - accuracy: 0.9959 - val_loss: 0.3891 - val_accuracy: 0.9131\n",
            "Epoch 42/50\n",
            "70/70 [==============================] - 8s 113ms/step - loss: 0.0382 - accuracy: 0.9903 - val_loss: 0.4202 - val_accuracy: 0.9000\n",
            "Epoch 43/50\n",
            "70/70 [==============================] - 8s 113ms/step - loss: 0.0447 - accuracy: 0.9810 - val_loss: 0.3747 - val_accuracy: 0.9167\n",
            "Epoch 44/50\n",
            "70/70 [==============================] - 8s 114ms/step - loss: 0.0385 - accuracy: 0.9855 - val_loss: 0.4132 - val_accuracy: 0.9036\n",
            "Epoch 45/50\n",
            "70/70 [==============================] - 8s 115ms/step - loss: 0.0620 - accuracy: 0.9752 - val_loss: 0.3951 - val_accuracy: 0.9119\n",
            "Epoch 46/50\n",
            "70/70 [==============================] - 8s 114ms/step - loss: 0.0351 - accuracy: 0.9902 - val_loss: 0.4129 - val_accuracy: 0.9167\n",
            "Epoch 47/50\n",
            "70/70 [==============================] - 8s 117ms/step - loss: 0.0725 - accuracy: 0.9774 - val_loss: 0.5757 - val_accuracy: 0.8905\n",
            "Epoch 48/50\n",
            "70/70 [==============================] - 8s 116ms/step - loss: 0.0905 - accuracy: 0.9761 - val_loss: 0.4594 - val_accuracy: 0.8952\n",
            "Epoch 49/50\n",
            "70/70 [==============================] - 8s 115ms/step - loss: 0.0482 - accuracy: 0.9815 - val_loss: 0.4608 - val_accuracy: 0.8988\n",
            "Epoch 50/50\n",
            "70/70 [==============================] - 8s 114ms/step - loss: 0.0549 - accuracy: 0.9808 - val_loss: 0.4114 - val_accuracy: 0.9083\n"
          ],
          "name": "stdout"
        }
      ]
    },
    {
      "cell_type": "code",
      "metadata": {
        "id": "uZ-JyN88n899"
      },
      "source": [
        "new_var= model.predict(x_test)\n",
        "try_new=confusion_matrix(y_test.argmax(axis=1),new_var.argmax(axis=1))\n",
        "matrix_new = classification_report(y_test.argmax(axis=1),new_var.argmax(axis=1))\n"
      ],
      "execution_count": null,
      "outputs": []
    },
    {
      "cell_type": "code",
      "metadata": {
        "colab": {
          "base_uri": "https://localhost:8080/"
        },
        "id": "pqwO3V6Tyya9",
        "outputId": "6e3c5fa7-85ec-452f-c127-545b74be5b72"
      },
      "source": [
        "print(matrix_new)"
      ],
      "execution_count": null,
      "outputs": [
        {
          "output_type": "stream",
          "text": [
            "              precision    recall  f1-score   support\n",
            "\n",
            "           0       0.88      0.89      0.89        65\n",
            "           1       0.75      0.87      0.81        63\n",
            "           2       0.96      0.86      0.91        58\n",
            "           3       0.77      0.88      0.82        57\n",
            "           4       0.89      0.80      0.84        70\n",
            "           5       0.97      0.91      0.94        65\n",
            "           6       0.93      0.95      0.94        56\n",
            "           7       0.95      0.95      0.95        64\n",
            "           8       0.94      0.94      0.94        49\n",
            "           9       0.92      0.91      0.91        53\n",
            "          10       0.97      0.97      0.97        61\n",
            "          11       0.98      0.96      0.97        54\n",
            "          12       0.97      0.92      0.94        61\n",
            "          13       0.91      0.94      0.92        64\n",
            "\n",
            "    accuracy                           0.91       840\n",
            "   macro avg       0.91      0.91      0.91       840\n",
            "weighted avg       0.91      0.91      0.91       840\n",
            "\n"
          ],
          "name": "stdout"
        }
      ]
    },
    {
      "cell_type": "code",
      "metadata": {
        "colab": {
          "base_uri": "https://localhost:8080/",
          "height": 606
        },
        "id": "RqpGnEkX7Cwc",
        "outputId": "6535029e-481d-42b5-bef4-d6463ab8fa00"
      },
      "source": [
        "try_new_normal = try_new.astype('float') / try_new.sum(axis=1)[:, np.newaxis]\n",
        "fig, ax = plt.subplots(figsize=(10,10))\n",
        "sns.heatmap(try_new_normal, annot=True, fmt='.2f', cbar=True,cmap=plt.cm.binary)\n",
        "plt.ylabel('Actual')\n",
        "plt.xlabel('Predicted')\n",
        "plt.show(block=False)"
      ],
      "execution_count": null,
      "outputs": [
        {
          "output_type": "display_data",
          "data": {
            "image/png": "[encoded data removed]",
            "text/plain": [
              "<Figure size 720x720 with 2 Axes>"
            ]
          },
          "metadata": {
            "tags": [],
            "needs_background": "light"
          }
        }
      ]
    },
    {
      "cell_type": "code",
      "metadata": {
        "id": "Ga37lO9X8fZU",
        "colab": {
          "base_uri": "https://localhost:8080/",
          "height": 573
        },
        "outputId": "f22931f5-b4c8-41d0-a6b5-f8cd47aebe94"
      },
      "source": [
        "# Accuracy Plot\n",
        "plt.plot(history.history['accuracy'])\n",
        "plt.plot(history.history['val_accuracy'])\n",
        "plt.title('model accuracy')\n",
        "plt.ylabel('accuracy')\n",
        "plt.xlabel('epoch')\n",
        "plt.legend(['train', 'test'], loc='lower right')\n",
        "plt.show()\n",
        "# Loss Plot\n",
        "plt.plot(history.history['loss'])\n",
        "plt.plot(history.history['val_loss'])\n",
        "plt.title('model loss')\n",
        "plt.ylabel('loss')\n",
        "plt.xlabel('epoch')\n",
        "plt.legend(['train', 'test'], loc='upper right')\n",
        "plt.show()"
      ],
      "execution_count": null,
      "outputs": [
        {
          "output_type": "display_data",
          "data": {
            "image/png": "[encoded data removed]",
            "text/plain": [
              "<Figure size 432x288 with 1 Axes>"
            ]
          },
          "metadata": {
            "tags": [],
            "needs_background": "light"
          }
        },
        {
          "output_type": "display_data",
          "data": {
            "image/png": "[encoded data removed]",
            "text/plain": [
              "<Figure size 432x288 with 1 Axes>"
            ]
          },
          "metadata": {
            "tags": [],
            "needs_background": "light"
          }
        }
      ]
    },
    {
      "cell_type": "code",
      "metadata": {
        "id": "Ud2fXeYy8mUt",
        "colab": {
          "base_uri": "https://localhost:8080/"
        },
        "outputId": "d1d2535c-b92a-4890-e023-b07ef1fb18fb"
      },
      "source": [
        "_, train_accuracy = model.evaluate(x_train, y_train)\n",
        "_, test_accuracy = model.evaluate(x_test, y_test)"
      ],
      "execution_count": null,
      "outputs": [
        {
          "output_type": "stream",
          "text": [
            "62/62 [==============================] - 10s 41ms/step - loss: 0.0124 - accuracy: 0.9980\n",
            "27/27 [==============================] - 1s 40ms/step - loss: 0.3364 - accuracy: 0.9179\n"
          ],
          "name": "stdout"
        }
      ]
    },
    {
      "cell_type": "code",
      "metadata": {
        "id": "33XaQbhT8nTp",
        "colab": {
          "base_uri": "https://localhost:8080/"
        },
        "outputId": "337a4869-56a6-4896-eecf-c3401a6f37c4"
      },
      "source": [
        "print('Accuracy on train set: {:.2f}%'.format(100 * train_accuracy))\n",
        "print('Accuracy on test set: {:.2f}%'.format(100 * test_accuracy))"
      ],
      "execution_count": null,
      "outputs": [
        {
          "output_type": "stream",
          "text": [
            "Accuracy on train set: 99.80%\n",
            "Accuracy on test set: 91.79%\n"
          ],
          "name": "stdout"
        }
      ]
    },
    {
      "cell_type": "markdown",
      "metadata": {
        "id": "DsloIWyMA6EW"
      },
      "source": [
        "This code has been referenced from \n",
        "\n",
        "```\n",
        "@inproceedings{devineau2018deep,\n",
        "  title={Deep learning for hand gesture recognition on skeletal data},\n",
        "  author={Devineau, Guillaume and Moutarde, Fabien and Xi, Wang and Yang, Jie},\n",
        "  booktitle={2018 13th IEEE International Conference on Automatic Face \\& Gesture Recognition (FG 2018)},\n",
        "  pages={106--113},\n",
        "  year={2018},\n",
        "  organization={IEEE}\n",
        "}\n",
        "```\n"
      ]
    }
  ]
}